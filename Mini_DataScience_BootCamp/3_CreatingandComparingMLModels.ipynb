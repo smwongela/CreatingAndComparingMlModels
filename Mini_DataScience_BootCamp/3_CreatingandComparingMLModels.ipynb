{
  "nbformat": 4,
  "nbformat_minor": 0,
  "metadata": {
    "colab": {
      "name": "Mini_DS_Bootcamp_Part3",
      "provenance": [],
      "collapsed_sections": []
    },
    "kernelspec": {
      "name": "python3",
      "display_name": "Python 3"
    }
  },
  "cells": [
    {
      "cell_type": "markdown",
      "metadata": {
        "id": "PFXQUrFtCQSr"
      },
      "source": [
        "# MINI DATA SCIENCE BOOTCAMP (3/3)\n",
        "## Part 3 - Creating and Comparing ML Models\n",
        "\n",
        "We are going to focus on building 2 supervised machine learning models - **classification and regression**. We will walk through the following steps for each of these solutions\n",
        "\n",
        "1.   Feature Selection & Engineering\n",
        "2.   Performance Measures\n",
        "3.   Model Creation\n",
        "4.   Model Tuning & Optimization\n",
        "5.   Model Selection\n",
        "\n",
        "---\n",
        "\n",
        "\n",
        "### Machine Learning Models\n",
        "\n",
        "We are going to focus on 2 types of ML models in this session. Both of them are supervised in nature (labels are known and are to be predicted).\n",
        "  \n",
        "\n",
        "**Classification**\n",
        "A classification problem is when the output variable is a category (nominal), such as “red” or “blue” or “disease” and “no disease”.\n",
        "  \n",
        "**Regression**\n",
        "A regression problem is when the output variable is a real (numerical) value, such as “dollars” or “weight”.\n",
        "  \n",
        "Reference - https://towardsdatascience.com/introduction-to-machine-learning-for-beginners-eed6024fdb08\n",
        "\n",
        "---\n",
        "\n",
        "Note: This notebook will not go over what does on in the \"black-box\" of the machine learning model. Keep an eye out on our Slack channel for an upcoming event on 'Introduction to Machine Learning' that dives into the math behind the ML models.\n",
        "\n",
        "A great free online course for Machine Learning is up on Coursera and taught by Andrew Ng. This course starts on April 13th and is highly recommended - https://www.coursera.org/learn/machine-learning\n"
      ]
    },
    {
      "cell_type": "markdown",
      "metadata": {
        "id": "mIgTgmIbDYSj"
      },
      "source": [
        "## Datasets"
      ]
    },
    {
      "cell_type": "markdown",
      "metadata": {
        "id": "MaFAuYj6ECi2"
      },
      "source": [
        "In this section, we will import all the necessary packages and load the datasets we plan to work on. \n",
        "For this exercise, we have picked 2 datasets:\n",
        "\n",
        "\n",
        "1.   [Boston Housing Data](https://www.kaggle.com/c/boston-housing)\n",
        "2.   [Iris Dataset](https://www.kaggle.com/arshid/iris-flower-dataset)\n",
        "\n",
        "Both these datasets are available through sklearn, you would not need to download them separately.\n",
        "\n"
      ]
    },
    {
      "cell_type": "code",
      "metadata": {
        "id": "hSd-RNA2Az6v"
      },
      "source": [
        "#Import all the necessary packages\n",
        "import pandas as pd\n",
        "import numpy as np\n",
        "from sklearn import datasets\n",
        "from sklearn import preprocessing\n",
        "from sklearn.naive_bayes import GaussianNB\n",
        "from sklearn import model_selection\n",
        "from sklearn.model_selection import train_test_split\n",
        "from sklearn.metrics import classification_report\n",
        "from sklearn.metrics import confusion_matrix\n",
        "from sklearn.metrics import accuracy_score\n",
        "from sklearn import tree\n",
        "from sklearn.ensemble import RandomForestClassifier\n",
        "from sklearn.linear_model import LinearRegression\n",
        "import seaborn as sns\n",
        "from sklearn.preprocessing import StandardScaler\n",
        "import sklearn.metrics as metrics\n",
        "from sklearn.linear_model import LogisticRegression\n",
        "from sklearn import svm\n",
        "from sklearn.ensemble import RandomForestRegressor\n",
        "from sklearn.metrics import mean_squared_error"
      ],
      "execution_count": null,
      "outputs": []
    },
    {
      "cell_type": "markdown",
      "metadata": {
        "id": "kmUN-Z7-FNhA"
      },
      "source": [
        "**Load datasets and convert to Pandas DataFrame**"
      ]
    },
    {
      "cell_type": "code",
      "metadata": {
        "id": "ei85euUdA6A1",
        "outputId": "fe9585e2-4316-46a3-be14-b6a9c470b652",
        "colab": {
          "base_uri": "https://localhost:8080/",
          "height": 221
        }
      },
      "source": [
        "#IRIS DATASET\n",
        "iris_raw = datasets.load_iris()\n",
        "\n",
        "#iris_raw is of sklearn internal datatype. Converting it to pandas dataframe so we can analyze the data easier\n",
        "iris = pd.DataFrame(iris_raw.data, columns=iris_raw.feature_names)\n",
        "#target is the predict_to column, in this case it is species and categorical in nature.\n",
        "iris['species'] = iris_raw.target\n",
        "\n",
        "print(iris.shape)\n",
        "iris.head(5)"
      ],
      "execution_count": null,
      "outputs": [
        {
          "output_type": "stream",
          "text": [
            "(150, 5)\n"
          ],
          "name": "stdout"
        },
        {
          "output_type": "execute_result",
          "data": {
            "text/html": [
              "<div>\n",
              "<style scoped>\n",
              "    .dataframe tbody tr th:only-of-type {\n",
              "        vertical-align: middle;\n",
              "    }\n",
              "\n",
              "    .dataframe tbody tr th {\n",
              "        vertical-align: top;\n",
              "    }\n",
              "\n",
              "    .dataframe thead th {\n",
              "        text-align: right;\n",
              "    }\n",
              "</style>\n",
              "<table border=\"1\" class=\"dataframe\">\n",
              "  <thead>\n",
              "    <tr style=\"text-align: right;\">\n",
              "      <th></th>\n",
              "      <th>sepal length (cm)</th>\n",
              "      <th>sepal width (cm)</th>\n",
              "      <th>petal length (cm)</th>\n",
              "      <th>petal width (cm)</th>\n",
              "      <th>species</th>\n",
              "    </tr>\n",
              "  </thead>\n",
              "  <tbody>\n",
              "    <tr>\n",
              "      <th>0</th>\n",
              "      <td>5.1</td>\n",
              "      <td>3.5</td>\n",
              "      <td>1.4</td>\n",
              "      <td>0.2</td>\n",
              "      <td>0</td>\n",
              "    </tr>\n",
              "    <tr>\n",
              "      <th>1</th>\n",
              "      <td>4.9</td>\n",
              "      <td>3.0</td>\n",
              "      <td>1.4</td>\n",
              "      <td>0.2</td>\n",
              "      <td>0</td>\n",
              "    </tr>\n",
              "    <tr>\n",
              "      <th>2</th>\n",
              "      <td>4.7</td>\n",
              "      <td>3.2</td>\n",
              "      <td>1.3</td>\n",
              "      <td>0.2</td>\n",
              "      <td>0</td>\n",
              "    </tr>\n",
              "    <tr>\n",
              "      <th>3</th>\n",
              "      <td>4.6</td>\n",
              "      <td>3.1</td>\n",
              "      <td>1.5</td>\n",
              "      <td>0.2</td>\n",
              "      <td>0</td>\n",
              "    </tr>\n",
              "    <tr>\n",
              "      <th>4</th>\n",
              "      <td>5.0</td>\n",
              "      <td>3.6</td>\n",
              "      <td>1.4</td>\n",
              "      <td>0.2</td>\n",
              "      <td>0</td>\n",
              "    </tr>\n",
              "  </tbody>\n",
              "</table>\n",
              "</div>"
            ],
            "text/plain": [
              "   sepal length (cm)  sepal width (cm)  ...  petal width (cm)  species\n",
              "0                5.1               3.5  ...               0.2        0\n",
              "1                4.9               3.0  ...               0.2        0\n",
              "2                4.7               3.2  ...               0.2        0\n",
              "3                4.6               3.1  ...               0.2        0\n",
              "4                5.0               3.6  ...               0.2        0\n",
              "\n",
              "[5 rows x 5 columns]"
            ]
          },
          "metadata": {
            "tags": []
          },
          "execution_count": 12
        }
      ]
    },
    {
      "cell_type": "code",
      "metadata": {
        "id": "KP5i6c4yBsgC",
        "outputId": "3c4a8286-fb36-4906-ca4b-125a819240f4",
        "colab": {
          "base_uri": "https://localhost:8080/",
          "height": 221
        }
      },
      "source": [
        "#BOSTON DATASET\n",
        "boston_raw = datasets.load_boston()\n",
        "#https://www.engineeringbigdata.com/boston-dataset-scikit-learn-machine-learning-in-python/\n",
        "\n",
        "#boston_raw is of sklearn internal datatype. Converting it to pandas dataframe so we can analyze the data easier\n",
        "boston = pd.DataFrame(boston_raw.data, columns=boston_raw.feature_names)\n",
        "#target is the predict_to column, in this case it is medv and numerical in nature.\n",
        "boston['MEDV'] = boston_raw.target\n",
        "\n",
        "print(boston.shape)\n",
        "boston.head(5)"
      ],
      "execution_count": null,
      "outputs": [
        {
          "output_type": "stream",
          "text": [
            "(506, 14)\n"
          ],
          "name": "stdout"
        },
        {
          "output_type": "execute_result",
          "data": {
            "text/html": [
              "<div>\n",
              "<style scoped>\n",
              "    .dataframe tbody tr th:only-of-type {\n",
              "        vertical-align: middle;\n",
              "    }\n",
              "\n",
              "    .dataframe tbody tr th {\n",
              "        vertical-align: top;\n",
              "    }\n",
              "\n",
              "    .dataframe thead th {\n",
              "        text-align: right;\n",
              "    }\n",
              "</style>\n",
              "<table border=\"1\" class=\"dataframe\">\n",
              "  <thead>\n",
              "    <tr style=\"text-align: right;\">\n",
              "      <th></th>\n",
              "      <th>CRIM</th>\n",
              "      <th>ZN</th>\n",
              "      <th>INDUS</th>\n",
              "      <th>CHAS</th>\n",
              "      <th>NOX</th>\n",
              "      <th>RM</th>\n",
              "      <th>AGE</th>\n",
              "      <th>DIS</th>\n",
              "      <th>RAD</th>\n",
              "      <th>TAX</th>\n",
              "      <th>PTRATIO</th>\n",
              "      <th>B</th>\n",
              "      <th>LSTAT</th>\n",
              "      <th>MEDV</th>\n",
              "    </tr>\n",
              "  </thead>\n",
              "  <tbody>\n",
              "    <tr>\n",
              "      <th>0</th>\n",
              "      <td>0.00632</td>\n",
              "      <td>18.0</td>\n",
              "      <td>2.31</td>\n",
              "      <td>0.0</td>\n",
              "      <td>0.538</td>\n",
              "      <td>6.575</td>\n",
              "      <td>65.2</td>\n",
              "      <td>4.0900</td>\n",
              "      <td>1.0</td>\n",
              "      <td>296.0</td>\n",
              "      <td>15.3</td>\n",
              "      <td>396.90</td>\n",
              "      <td>4.98</td>\n",
              "      <td>24.0</td>\n",
              "    </tr>\n",
              "    <tr>\n",
              "      <th>1</th>\n",
              "      <td>0.02731</td>\n",
              "      <td>0.0</td>\n",
              "      <td>7.07</td>\n",
              "      <td>0.0</td>\n",
              "      <td>0.469</td>\n",
              "      <td>6.421</td>\n",
              "      <td>78.9</td>\n",
              "      <td>4.9671</td>\n",
              "      <td>2.0</td>\n",
              "      <td>242.0</td>\n",
              "      <td>17.8</td>\n",
              "      <td>396.90</td>\n",
              "      <td>9.14</td>\n",
              "      <td>21.6</td>\n",
              "    </tr>\n",
              "    <tr>\n",
              "      <th>2</th>\n",
              "      <td>0.02729</td>\n",
              "      <td>0.0</td>\n",
              "      <td>7.07</td>\n",
              "      <td>0.0</td>\n",
              "      <td>0.469</td>\n",
              "      <td>7.185</td>\n",
              "      <td>61.1</td>\n",
              "      <td>4.9671</td>\n",
              "      <td>2.0</td>\n",
              "      <td>242.0</td>\n",
              "      <td>17.8</td>\n",
              "      <td>392.83</td>\n",
              "      <td>4.03</td>\n",
              "      <td>34.7</td>\n",
              "    </tr>\n",
              "    <tr>\n",
              "      <th>3</th>\n",
              "      <td>0.03237</td>\n",
              "      <td>0.0</td>\n",
              "      <td>2.18</td>\n",
              "      <td>0.0</td>\n",
              "      <td>0.458</td>\n",
              "      <td>6.998</td>\n",
              "      <td>45.8</td>\n",
              "      <td>6.0622</td>\n",
              "      <td>3.0</td>\n",
              "      <td>222.0</td>\n",
              "      <td>18.7</td>\n",
              "      <td>394.63</td>\n",
              "      <td>2.94</td>\n",
              "      <td>33.4</td>\n",
              "    </tr>\n",
              "    <tr>\n",
              "      <th>4</th>\n",
              "      <td>0.06905</td>\n",
              "      <td>0.0</td>\n",
              "      <td>2.18</td>\n",
              "      <td>0.0</td>\n",
              "      <td>0.458</td>\n",
              "      <td>7.147</td>\n",
              "      <td>54.2</td>\n",
              "      <td>6.0622</td>\n",
              "      <td>3.0</td>\n",
              "      <td>222.0</td>\n",
              "      <td>18.7</td>\n",
              "      <td>396.90</td>\n",
              "      <td>5.33</td>\n",
              "      <td>36.2</td>\n",
              "    </tr>\n",
              "  </tbody>\n",
              "</table>\n",
              "</div>"
            ],
            "text/plain": [
              "      CRIM    ZN  INDUS  CHAS    NOX  ...    TAX  PTRATIO       B  LSTAT  MEDV\n",
              "0  0.00632  18.0   2.31   0.0  0.538  ...  296.0     15.3  396.90   4.98  24.0\n",
              "1  0.02731   0.0   7.07   0.0  0.469  ...  242.0     17.8  396.90   9.14  21.6\n",
              "2  0.02729   0.0   7.07   0.0  0.469  ...  242.0     17.8  392.83   4.03  34.7\n",
              "3  0.03237   0.0   2.18   0.0  0.458  ...  222.0     18.7  394.63   2.94  33.4\n",
              "4  0.06905   0.0   2.18   0.0  0.458  ...  222.0     18.7  396.90   5.33  36.2\n",
              "\n",
              "[5 rows x 14 columns]"
            ]
          },
          "metadata": {
            "tags": []
          },
          "execution_count": 13
        }
      ]
    },
    {
      "cell_type": "code",
      "metadata": {
        "id": "_SQI5G9KPrEp",
        "outputId": "6cce636a-4846-4a9e-f2e8-fcc420d35e57",
        "colab": {
          "base_uri": "https://localhost:8080/",
          "height": 68
        }
      },
      "source": [
        "boston.columns"
      ],
      "execution_count": null,
      "outputs": [
        {
          "output_type": "execute_result",
          "data": {
            "text/plain": [
              "Index(['CRIM', 'ZN', 'INDUS', 'CHAS', 'NOX', 'RM', 'AGE', 'DIS', 'RAD', 'TAX',\n",
              "       'PTRATIO', 'B', 'LSTAT', 'MEDV'],\n",
              "      dtype='object')"
            ]
          },
          "metadata": {
            "tags": []
          },
          "execution_count": 14
        }
      ]
    },
    {
      "cell_type": "code",
      "metadata": {
        "id": "L-uI2tfmPzy_",
        "outputId": "4dca62a8-3255-4fab-d7f3-35d375a28ab2",
        "colab": {
          "base_uri": "https://localhost:8080/",
          "height": 884
        }
      },
      "source": [
        "print(boston_raw.DESCR)"
      ],
      "execution_count": null,
      "outputs": [
        {
          "output_type": "stream",
          "text": [
            ".. _boston_dataset:\n",
            "\n",
            "Boston house prices dataset\n",
            "---------------------------\n",
            "\n",
            "**Data Set Characteristics:**  \n",
            "\n",
            "    :Number of Instances: 506 \n",
            "\n",
            "    :Number of Attributes: 13 numeric/categorical predictive. Median Value (attribute 14) is usually the target.\n",
            "\n",
            "    :Attribute Information (in order):\n",
            "        - CRIM     per capita crime rate by town\n",
            "        - ZN       proportion of residential land zoned for lots over 25,000 sq.ft.\n",
            "        - INDUS    proportion of non-retail business acres per town\n",
            "        - CHAS     Charles River dummy variable (= 1 if tract bounds river; 0 otherwise)\n",
            "        - NOX      nitric oxides concentration (parts per 10 million)\n",
            "        - RM       average number of rooms per dwelling\n",
            "        - AGE      proportion of owner-occupied units built prior to 1940\n",
            "        - DIS      weighted distances to five Boston employment centres\n",
            "        - RAD      index of accessibility to radial highways\n",
            "        - TAX      full-value property-tax rate per $10,000\n",
            "        - PTRATIO  pupil-teacher ratio by town\n",
            "        - B        1000(Bk - 0.63)^2 where Bk is the proportion of blacks by town\n",
            "        - LSTAT    % lower status of the population\n",
            "        - MEDV     Median value of owner-occupied homes in $1000's\n",
            "\n",
            "    :Missing Attribute Values: None\n",
            "\n",
            "    :Creator: Harrison, D. and Rubinfeld, D.L.\n",
            "\n",
            "This is a copy of UCI ML housing dataset.\n",
            "https://archive.ics.uci.edu/ml/machine-learning-databases/housing/\n",
            "\n",
            "\n",
            "This dataset was taken from the StatLib library which is maintained at Carnegie Mellon University.\n",
            "\n",
            "The Boston house-price data of Harrison, D. and Rubinfeld, D.L. 'Hedonic\n",
            "prices and the demand for clean air', J. Environ. Economics & Management,\n",
            "vol.5, 81-102, 1978.   Used in Belsley, Kuh & Welsch, 'Regression diagnostics\n",
            "...', Wiley, 1980.   N.B. Various transformations are used in the table on\n",
            "pages 244-261 of the latter.\n",
            "\n",
            "The Boston house-price data has been used in many machine learning papers that address regression\n",
            "problems.   \n",
            "     \n",
            ".. topic:: References\n",
            "\n",
            "   - Belsley, Kuh & Welsch, 'Regression diagnostics: Identifying Influential Data and Sources of Collinearity', Wiley, 1980. 244-261.\n",
            "   - Quinlan,R. (1993). Combining Instance-Based and Model-Based Learning. In Proceedings on the Tenth International Conference of Machine Learning, 236-243, University of Massachusetts, Amherst. Morgan Kaufmann.\n",
            "\n"
          ],
          "name": "stdout"
        }
      ]
    },
    {
      "cell_type": "markdown",
      "metadata": {
        "id": "YOYMPnUPE9MT"
      },
      "source": [
        "### Splitting your Data"
      ]
    },
    {
      "cell_type": "markdown",
      "metadata": {
        "id": "U_SLUvdjFF3n"
      },
      "source": [
        "In Machine Learning problems, we split the datasets into 2 parts to make the model creation and testing most efficient\n",
        "\n",
        "\n",
        "1.   Training - 80%\n",
        "2.   Testing - 20%\n",
        "\n",
        "We create a model on 80% of the data with no knowledge on the data in the 20% to see if the hypothesis we formulate on the 80% can truly be generalized for the dataset. Therefore, we will not conduct any analysis on the test data and will not know any information on this.\n",
        "\n",
        "Your model is trained on 80% of the data and this model is experimented with the 20% data to generate metrics on the model performance.\n",
        "\n",
        "Let us split our datasets into train and test accordingly"
      ]
    },
    {
      "cell_type": "markdown",
      "metadata": {
        "id": "7rdyERDaMscU"
      },
      "source": [
        "Overfitting and underfitting\n",
        "\n",
        "https://towardsdatascience.com/overfitting-vs-underfitting-a-conceptual-explanation-d94ee20ca7f9\n",
        "\n",
        "![image.png](data:image/png;base64,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)\n",
        "\n",
        "Overfitting: too much reliance on the training data\n",
        "\n",
        "Underfitting: a failure to learn the relationships in the training data\n",
        "\n",
        "High Variance: model changes significantly based on training data\n",
        "\n",
        "High Bias: assumptions about model lead to ignoring training data\n",
        "\n",
        "Overfitting and underfitting cause poor generalization on the test set\n",
        "\n",
        "A validation set for model tuning can prevent under and overfitting"
      ]
    },
    {
      "cell_type": "code",
      "metadata": {
        "id": "TZGXCLZThB0X",
        "outputId": "58574fa7-6bfb-41df-f976-77f9eadc270f",
        "colab": {
          "base_uri": "https://localhost:8080/",
          "height": 68
        }
      },
      "source": [
        "#IRIS DATASET\n",
        "iris_train,iris_test = model_selection.train_test_split(iris,test_size=0.2)\n",
        "print(\"IRIS DATASET: \" + str(len(iris)) + \" rows\")\n",
        "print(\"Train = \" + str(len(iris_train)) + \" rows\")\n",
        "print(\"Test = \" + str(len(iris_test)) + \" rows\")\n",
        "\n",
        "#Resetting index for prediction time\n",
        "iris_train = iris_train.reset_index(drop=True)\n",
        "iris_test = iris_test.reset_index(drop=True)"
      ],
      "execution_count": null,
      "outputs": [
        {
          "output_type": "stream",
          "text": [
            "IRIS DATASET: 150 rows\n",
            "Train = 120 rows\n",
            "Test = 30 rows\n"
          ],
          "name": "stdout"
        }
      ]
    },
    {
      "cell_type": "code",
      "metadata": {
        "id": "sXvBVBuNhTid",
        "outputId": "19b53170-af66-4ef5-c070-1b23f8953687",
        "colab": {
          "base_uri": "https://localhost:8080/",
          "height": 68
        }
      },
      "source": [
        "#BOSTON DATASET\n",
        "boston_train,boston_test = model_selection.train_test_split(boston,test_size=0.2)\n",
        "print(\"BOSTON DATASET: \" + str(len(boston)) + \" rows\")\n",
        "print(\"Train = \" + str(len(boston_train)) + \" rows\")\n",
        "print(\"Test = \" + str(len(boston_test)) + \" rows\")\n",
        "\n",
        "#Resetting index for prediction time\n",
        "boston_train = boston_train.reset_index(drop=True)\n",
        "boston_test = boston_test.reset_index(drop=True)"
      ],
      "execution_count": null,
      "outputs": [
        {
          "output_type": "stream",
          "text": [
            "BOSTON DATASET: 506 rows\n",
            "Train = 404 rows\n",
            "Test = 102 rows\n"
          ],
          "name": "stdout"
        }
      ]
    },
    {
      "cell_type": "markdown",
      "metadata": {
        "id": "cK4WISk52pyG"
      },
      "source": [
        "Now your data is ready to start the feature selection and engineering process."
      ]
    },
    {
      "cell_type": "markdown",
      "metadata": {
        "id": "2E_lkpgE2Yht"
      },
      "source": [
        "## Feature Selection & Engineering"
      ]
    },
    {
      "cell_type": "markdown",
      "metadata": {
        "id": "F1BAECIprkew"
      },
      "source": [
        "We need to decide which features (columns) to use to make predictions. Even though the datasets we are using are smaller in nature, in real life we would tend to work on problems which have multiple columns in the data which would require analysis to see which columns would make sense to create the model with.\n",
        "\n",
        "We will conduct this analysis ONLY on the training data.\n",
        "\n",
        "**Curse of Dimensionality**\n",
        "\n",
        "\n",
        "The curse of dimensionality refers to various phenomena that arise when analyzing and organizing data in high-dimensional spaces (often with hundreds or thousands of dimensions) that do not occur in low-dimensional settings such as the three-dimensional physical space of everyday experience. \n",
        "\n",
        "As the dimensionality increases, the volume of the space increases so fast that the available data become sparse. This sparsity is problematic for any method that requires statistical significance.\n",
        "\n",
        "Therefore it is essential to quality control the data that is being fed to the model.\n",
        "\n",
        "Reference - https://en.wikipedia.org/wiki/Curse_of_dimensionality"
      ]
    },
    {
      "cell_type": "markdown",
      "metadata": {
        "id": "T-Bqo7LA0RD8"
      },
      "source": [
        "### Feature Engineering"
      ]
    },
    {
      "cell_type": "markdown",
      "metadata": {
        "id": "CvlA9FeHpxIf"
      },
      "source": [
        "**Null Handling**\n",
        "\n",
        "\n",
        "Do either of the datasets have any null values that need to be handled/imputed?"
      ]
    },
    {
      "cell_type": "code",
      "metadata": {
        "id": "jryFJgRjraCI",
        "outputId": "352d585a-2607-47ea-8c5a-1737abd1c3dc",
        "colab": {
          "base_uri": "https://localhost:8080/",
          "height": 119
        }
      },
      "source": [
        "iris_train.isnull().sum()"
      ],
      "execution_count": null,
      "outputs": [
        {
          "output_type": "execute_result",
          "data": {
            "text/plain": [
              "sepal length (cm)    0\n",
              "sepal width (cm)     0\n",
              "petal length (cm)    0\n",
              "petal width (cm)     0\n",
              "species              0\n",
              "dtype: int64"
            ]
          },
          "metadata": {
            "tags": []
          },
          "execution_count": 18
        }
      ]
    },
    {
      "cell_type": "markdown",
      "metadata": {
        "id": "RNEiKZsBrrd9"
      },
      "source": [
        "There are no null values to be handled in the iris dataset"
      ]
    },
    {
      "cell_type": "code",
      "metadata": {
        "id": "v5rMFUNUrvbm",
        "outputId": "020a6d00-1a3c-4023-a437-d3fb63e37336",
        "colab": {
          "base_uri": "https://localhost:8080/",
          "height": 272
        }
      },
      "source": [
        "boston_train.isnull().sum()"
      ],
      "execution_count": null,
      "outputs": [
        {
          "output_type": "execute_result",
          "data": {
            "text/plain": [
              "CRIM       0\n",
              "ZN         0\n",
              "INDUS      0\n",
              "CHAS       0\n",
              "NOX        0\n",
              "RM         0\n",
              "AGE        0\n",
              "DIS        0\n",
              "RAD        0\n",
              "TAX        0\n",
              "PTRATIO    0\n",
              "B          0\n",
              "LSTAT      0\n",
              "MEDV       0\n",
              "dtype: int64"
            ]
          },
          "metadata": {
            "tags": []
          },
          "execution_count": 19
        }
      ]
    },
    {
      "cell_type": "markdown",
      "metadata": {
        "id": "D7hWE5FntHXu"
      },
      "source": [
        "There are no null values to be handled in the boston dataset either"
      ]
    },
    {
      "cell_type": "markdown",
      "metadata": {
        "id": "JSPZnpqS0a4a"
      },
      "source": [
        "Let us take a look at the boston dataset"
      ]
    },
    {
      "cell_type": "code",
      "metadata": {
        "id": "N5w2ulOz_CSX",
        "outputId": "92af4d0d-dce2-4cc4-96bf-94edee3c160f",
        "colab": {
          "base_uri": "https://localhost:8080/",
          "height": 297
        }
      },
      "source": [
        "boston_train.describe()"
      ],
      "execution_count": null,
      "outputs": [
        {
          "output_type": "execute_result",
          "data": {
            "text/html": [
              "<div>\n",
              "<style scoped>\n",
              "    .dataframe tbody tr th:only-of-type {\n",
              "        vertical-align: middle;\n",
              "    }\n",
              "\n",
              "    .dataframe tbody tr th {\n",
              "        vertical-align: top;\n",
              "    }\n",
              "\n",
              "    .dataframe thead th {\n",
              "        text-align: right;\n",
              "    }\n",
              "</style>\n",
              "<table border=\"1\" class=\"dataframe\">\n",
              "  <thead>\n",
              "    <tr style=\"text-align: right;\">\n",
              "      <th></th>\n",
              "      <th>CRIM</th>\n",
              "      <th>ZN</th>\n",
              "      <th>INDUS</th>\n",
              "      <th>CHAS</th>\n",
              "      <th>NOX</th>\n",
              "      <th>RM</th>\n",
              "      <th>AGE</th>\n",
              "      <th>DIS</th>\n",
              "      <th>RAD</th>\n",
              "      <th>TAX</th>\n",
              "      <th>PTRATIO</th>\n",
              "      <th>B</th>\n",
              "      <th>LSTAT</th>\n",
              "      <th>MEDV</th>\n",
              "    </tr>\n",
              "  </thead>\n",
              "  <tbody>\n",
              "    <tr>\n",
              "      <th>count</th>\n",
              "      <td>404.000000</td>\n",
              "      <td>404.000000</td>\n",
              "      <td>404.000000</td>\n",
              "      <td>404.000000</td>\n",
              "      <td>404.000000</td>\n",
              "      <td>404.000000</td>\n",
              "      <td>404.000000</td>\n",
              "      <td>404.000000</td>\n",
              "      <td>404.000000</td>\n",
              "      <td>404.000000</td>\n",
              "      <td>404.000000</td>\n",
              "      <td>404.000000</td>\n",
              "      <td>404.000000</td>\n",
              "      <td>404.000000</td>\n",
              "    </tr>\n",
              "    <tr>\n",
              "      <th>mean</th>\n",
              "      <td>3.893007</td>\n",
              "      <td>10.820545</td>\n",
              "      <td>11.097574</td>\n",
              "      <td>0.066832</td>\n",
              "      <td>0.556678</td>\n",
              "      <td>6.298181</td>\n",
              "      <td>69.247772</td>\n",
              "      <td>3.774986</td>\n",
              "      <td>9.680693</td>\n",
              "      <td>410.356436</td>\n",
              "      <td>18.500743</td>\n",
              "      <td>355.179035</td>\n",
              "      <td>12.574084</td>\n",
              "      <td>22.744059</td>\n",
              "    </tr>\n",
              "    <tr>\n",
              "      <th>std</th>\n",
              "      <td>9.334589</td>\n",
              "      <td>23.124930</td>\n",
              "      <td>6.924809</td>\n",
              "      <td>0.250040</td>\n",
              "      <td>0.114742</td>\n",
              "      <td>0.719683</td>\n",
              "      <td>27.637237</td>\n",
              "      <td>2.104738</td>\n",
              "      <td>8.781015</td>\n",
              "      <td>169.863284</td>\n",
              "      <td>2.138974</td>\n",
              "      <td>93.131939</td>\n",
              "      <td>7.038297</td>\n",
              "      <td>9.424638</td>\n",
              "    </tr>\n",
              "    <tr>\n",
              "      <th>min</th>\n",
              "      <td>0.006320</td>\n",
              "      <td>0.000000</td>\n",
              "      <td>0.460000</td>\n",
              "      <td>0.000000</td>\n",
              "      <td>0.385000</td>\n",
              "      <td>3.561000</td>\n",
              "      <td>2.900000</td>\n",
              "      <td>1.129600</td>\n",
              "      <td>1.000000</td>\n",
              "      <td>187.000000</td>\n",
              "      <td>12.600000</td>\n",
              "      <td>0.320000</td>\n",
              "      <td>1.730000</td>\n",
              "      <td>5.000000</td>\n",
              "    </tr>\n",
              "    <tr>\n",
              "      <th>25%</th>\n",
              "      <td>0.083545</td>\n",
              "      <td>0.000000</td>\n",
              "      <td>5.130000</td>\n",
              "      <td>0.000000</td>\n",
              "      <td>0.453000</td>\n",
              "      <td>5.893500</td>\n",
              "      <td>46.175000</td>\n",
              "      <td>2.102875</td>\n",
              "      <td>4.000000</td>\n",
              "      <td>279.750000</td>\n",
              "      <td>17.400000</td>\n",
              "      <td>375.300000</td>\n",
              "      <td>6.915000</td>\n",
              "      <td>17.075000</td>\n",
              "    </tr>\n",
              "    <tr>\n",
              "      <th>50%</th>\n",
              "      <td>0.274475</td>\n",
              "      <td>0.000000</td>\n",
              "      <td>9.690000</td>\n",
              "      <td>0.000000</td>\n",
              "      <td>0.538000</td>\n",
              "      <td>6.215500</td>\n",
              "      <td>78.500000</td>\n",
              "      <td>3.142300</td>\n",
              "      <td>5.000000</td>\n",
              "      <td>330.000000</td>\n",
              "      <td>19.100000</td>\n",
              "      <td>391.250000</td>\n",
              "      <td>11.645000</td>\n",
              "      <td>21.300000</td>\n",
              "    </tr>\n",
              "    <tr>\n",
              "      <th>75%</th>\n",
              "      <td>3.694070</td>\n",
              "      <td>0.000000</td>\n",
              "      <td>18.100000</td>\n",
              "      <td>0.000000</td>\n",
              "      <td>0.624000</td>\n",
              "      <td>6.621500</td>\n",
              "      <td>93.900000</td>\n",
              "      <td>5.142150</td>\n",
              "      <td>24.000000</td>\n",
              "      <td>666.000000</td>\n",
              "      <td>20.200000</td>\n",
              "      <td>396.162500</td>\n",
              "      <td>16.530000</td>\n",
              "      <td>25.525000</td>\n",
              "    </tr>\n",
              "    <tr>\n",
              "      <th>max</th>\n",
              "      <td>88.976200</td>\n",
              "      <td>100.000000</td>\n",
              "      <td>27.740000</td>\n",
              "      <td>1.000000</td>\n",
              "      <td>0.871000</td>\n",
              "      <td>8.780000</td>\n",
              "      <td>100.000000</td>\n",
              "      <td>12.126500</td>\n",
              "      <td>24.000000</td>\n",
              "      <td>711.000000</td>\n",
              "      <td>22.000000</td>\n",
              "      <td>396.900000</td>\n",
              "      <td>37.970000</td>\n",
              "      <td>50.000000</td>\n",
              "    </tr>\n",
              "  </tbody>\n",
              "</table>\n",
              "</div>"
            ],
            "text/plain": [
              "             CRIM          ZN       INDUS  ...           B       LSTAT        MEDV\n",
              "count  404.000000  404.000000  404.000000  ...  404.000000  404.000000  404.000000\n",
              "mean     3.893007   10.820545   11.097574  ...  355.179035   12.574084   22.744059\n",
              "std      9.334589   23.124930    6.924809  ...   93.131939    7.038297    9.424638\n",
              "min      0.006320    0.000000    0.460000  ...    0.320000    1.730000    5.000000\n",
              "25%      0.083545    0.000000    5.130000  ...  375.300000    6.915000   17.075000\n",
              "50%      0.274475    0.000000    9.690000  ...  391.250000   11.645000   21.300000\n",
              "75%      3.694070    0.000000   18.100000  ...  396.162500   16.530000   25.525000\n",
              "max     88.976200  100.000000   27.740000  ...  396.900000   37.970000   50.000000\n",
              "\n",
              "[8 rows x 14 columns]"
            ]
          },
          "metadata": {
            "tags": []
          },
          "execution_count": 20
        }
      ]
    },
    {
      "cell_type": "markdown",
      "metadata": {
        "id": "YGRWGV1qC_E1"
      },
      "source": [
        "Since the TAX column has a min of 187 and max of 711, we are going to use feature scaling to force the values between 0 and 1."
      ]
    },
    {
      "cell_type": "code",
      "metadata": {
        "id": "P98m3AMlDPXz",
        "outputId": "ea54d8f3-329f-43a9-e923-c99d4e24b7a4",
        "colab": {
          "base_uri": "https://localhost:8080/",
          "height": 51
        }
      },
      "source": [
        "min_max_scaler = preprocessing.MinMaxScaler()\n",
        "boston_train_tax = boston_train[['TAX']]\n",
        "print(\"Range before scaling: \" + str(boston_train_tax['TAX'].min()) + \" - \" + str(boston_train_tax['TAX'].max()))\n",
        "boston_train_tax = min_max_scaler.fit_transform(boston_train_tax)\n",
        "boston_train_tax_scaled = pd.DataFrame(boston_train_tax, columns=['TAX_SCALED'])\n",
        "print(\"Range after scaling: \" + str(boston_train_tax_scaled['TAX_SCALED'].min()) + \" - \" + str(boston_train_tax_scaled['TAX_SCALED'].max()))"
      ],
      "execution_count": null,
      "outputs": [
        {
          "output_type": "stream",
          "text": [
            "Range before scaling: 187.0 - 711.0\n",
            "Range after scaling: 0.0 - 1.0\n"
          ],
          "name": "stdout"
        }
      ]
    },
    {
      "cell_type": "markdown",
      "metadata": {
        "id": "BdPSPscIEb-5"
      },
      "source": [
        "Append this back to our train data"
      ]
    },
    {
      "cell_type": "code",
      "metadata": {
        "id": "N9MeiMKMEblU",
        "outputId": "57cdfded-fcaa-4755-d912-f29dfdea97d5",
        "colab": {
          "base_uri": "https://localhost:8080/",
          "height": 204
        }
      },
      "source": [
        "boston_train = pd.concat([boston_train, boston_train_tax_scaled], axis=1)\n",
        "boston_train.head(5)"
      ],
      "execution_count": null,
      "outputs": [
        {
          "output_type": "execute_result",
          "data": {
            "text/html": [
              "<div>\n",
              "<style scoped>\n",
              "    .dataframe tbody tr th:only-of-type {\n",
              "        vertical-align: middle;\n",
              "    }\n",
              "\n",
              "    .dataframe tbody tr th {\n",
              "        vertical-align: top;\n",
              "    }\n",
              "\n",
              "    .dataframe thead th {\n",
              "        text-align: right;\n",
              "    }\n",
              "</style>\n",
              "<table border=\"1\" class=\"dataframe\">\n",
              "  <thead>\n",
              "    <tr style=\"text-align: right;\">\n",
              "      <th></th>\n",
              "      <th>CRIM</th>\n",
              "      <th>ZN</th>\n",
              "      <th>INDUS</th>\n",
              "      <th>CHAS</th>\n",
              "      <th>NOX</th>\n",
              "      <th>RM</th>\n",
              "      <th>AGE</th>\n",
              "      <th>DIS</th>\n",
              "      <th>RAD</th>\n",
              "      <th>TAX</th>\n",
              "      <th>PTRATIO</th>\n",
              "      <th>B</th>\n",
              "      <th>LSTAT</th>\n",
              "      <th>MEDV</th>\n",
              "      <th>TAX_SCALED</th>\n",
              "    </tr>\n",
              "  </thead>\n",
              "  <tbody>\n",
              "    <tr>\n",
              "      <th>0</th>\n",
              "      <td>0.10659</td>\n",
              "      <td>80.0</td>\n",
              "      <td>1.91</td>\n",
              "      <td>0.0</td>\n",
              "      <td>0.413</td>\n",
              "      <td>5.936</td>\n",
              "      <td>19.5</td>\n",
              "      <td>10.5857</td>\n",
              "      <td>4.0</td>\n",
              "      <td>334.0</td>\n",
              "      <td>22.0</td>\n",
              "      <td>376.04</td>\n",
              "      <td>5.57</td>\n",
              "      <td>20.6</td>\n",
              "      <td>0.280534</td>\n",
              "    </tr>\n",
              "    <tr>\n",
              "      <th>1</th>\n",
              "      <td>0.14231</td>\n",
              "      <td>0.0</td>\n",
              "      <td>10.01</td>\n",
              "      <td>0.0</td>\n",
              "      <td>0.547</td>\n",
              "      <td>6.254</td>\n",
              "      <td>84.2</td>\n",
              "      <td>2.2565</td>\n",
              "      <td>6.0</td>\n",
              "      <td>432.0</td>\n",
              "      <td>17.8</td>\n",
              "      <td>388.74</td>\n",
              "      <td>10.45</td>\n",
              "      <td>18.5</td>\n",
              "      <td>0.467557</td>\n",
              "    </tr>\n",
              "    <tr>\n",
              "      <th>2</th>\n",
              "      <td>0.59005</td>\n",
              "      <td>0.0</td>\n",
              "      <td>21.89</td>\n",
              "      <td>0.0</td>\n",
              "      <td>0.624</td>\n",
              "      <td>6.372</td>\n",
              "      <td>97.9</td>\n",
              "      <td>2.3274</td>\n",
              "      <td>4.0</td>\n",
              "      <td>437.0</td>\n",
              "      <td>21.2</td>\n",
              "      <td>385.76</td>\n",
              "      <td>11.12</td>\n",
              "      <td>23.0</td>\n",
              "      <td>0.477099</td>\n",
              "    </tr>\n",
              "    <tr>\n",
              "      <th>3</th>\n",
              "      <td>15.86030</td>\n",
              "      <td>0.0</td>\n",
              "      <td>18.10</td>\n",
              "      <td>0.0</td>\n",
              "      <td>0.679</td>\n",
              "      <td>5.896</td>\n",
              "      <td>95.4</td>\n",
              "      <td>1.9096</td>\n",
              "      <td>24.0</td>\n",
              "      <td>666.0</td>\n",
              "      <td>20.2</td>\n",
              "      <td>7.68</td>\n",
              "      <td>24.39</td>\n",
              "      <td>8.3</td>\n",
              "      <td>0.914122</td>\n",
              "    </tr>\n",
              "    <tr>\n",
              "      <th>4</th>\n",
              "      <td>0.12757</td>\n",
              "      <td>30.0</td>\n",
              "      <td>4.93</td>\n",
              "      <td>0.0</td>\n",
              "      <td>0.428</td>\n",
              "      <td>6.393</td>\n",
              "      <td>7.8</td>\n",
              "      <td>7.0355</td>\n",
              "      <td>6.0</td>\n",
              "      <td>300.0</td>\n",
              "      <td>16.6</td>\n",
              "      <td>374.71</td>\n",
              "      <td>5.19</td>\n",
              "      <td>23.7</td>\n",
              "      <td>0.215649</td>\n",
              "    </tr>\n",
              "  </tbody>\n",
              "</table>\n",
              "</div>"
            ],
            "text/plain": [
              "       CRIM    ZN  INDUS  CHAS    NOX  ...  PTRATIO       B  LSTAT  MEDV  TAX_SCALED\n",
              "0   0.10659  80.0   1.91   0.0  0.413  ...     22.0  376.04   5.57  20.6    0.280534\n",
              "1   0.14231   0.0  10.01   0.0  0.547  ...     17.8  388.74  10.45  18.5    0.467557\n",
              "2   0.59005   0.0  21.89   0.0  0.624  ...     21.2  385.76  11.12  23.0    0.477099\n",
              "3  15.86030   0.0  18.10   0.0  0.679  ...     20.2    7.68  24.39   8.3    0.914122\n",
              "4   0.12757  30.0   4.93   0.0  0.428  ...     16.6  374.71   5.19  23.7    0.215649\n",
              "\n",
              "[5 rows x 15 columns]"
            ]
          },
          "metadata": {
            "tags": []
          },
          "execution_count": 22
        }
      ]
    },
    {
      "cell_type": "markdown",
      "metadata": {
        "id": "HjkDojtVIDmR"
      },
      "source": [
        "**EXERCISE: Are there any new meaningful features you can generate from existing features in the Boston and Iris datasets?**"
      ]
    },
    {
      "cell_type": "markdown",
      "metadata": {
        "id": "8SEc3MuwtMco"
      },
      "source": [
        "### Feature Selection"
      ]
    },
    {
      "cell_type": "markdown",
      "metadata": {
        "id": "YellBFt2uRlr"
      },
      "source": [
        "In the boston dataset, are there any columns that are not useful or have very low correlation?"
      ]
    },
    {
      "cell_type": "code",
      "metadata": {
        "id": "sheloUKDtU7Z",
        "outputId": "1ca7f15a-1f1f-4c97-8979-7741dbcc69e7",
        "colab": {
          "base_uri": "https://localhost:8080/",
          "height": 340
        }
      },
      "source": [
        "boston_corr_matrix = boston_train.corr()\n",
        "sns.heatmap(data=boston_corr_matrix, annot=False)"
      ],
      "execution_count": null,
      "outputs": [
        {
          "output_type": "execute_result",
          "data": {
            "text/plain": [
              "<matplotlib.axes._subplots.AxesSubplot at 0x7f79e53aac18>"
            ]
          },
          "metadata": {
            "tags": []
          },
          "execution_count": 23
        },
        {
          "output_type": "display_data",
          "data": {
            "image/png": "[encoded data removed]",
            "text/plain": [
              "<Figure size 432x288 with 2 Axes>"
            ]
          },
          "metadata": {
            "tags": [],
            "needs_background": "light"
          }
        }
      ]
    },
    {
      "cell_type": "markdown",
      "metadata": {
        "id": "IPkByFEvyr4a"
      },
      "source": [
        "Since MEDV is our predict column, we want to pick features which have a positive and negative correlation with MEDV. Adding in columns which have a low or non-existent correlation would add to our 'Curse of Dimensionality' issue.\n",
        "\n",
        "For this, let us pick only the top 4 most correlated features to MEDV for training our model."
      ]
    },
    {
      "cell_type": "code",
      "metadata": {
        "id": "7Rf6w5Dhyh9z",
        "outputId": "84ff2f24-0152-421d-cf69-a51180e42314",
        "colab": {
          "base_uri": "https://localhost:8080/",
          "height": 289
        }
      },
      "source": [
        "#printing all the correlations to MEDV in descending order\n",
        "boston_corr_matrix['MEDV'].sort_values(ascending=False)"
      ],
      "execution_count": null,
      "outputs": [
        {
          "output_type": "execute_result",
          "data": {
            "text/plain": [
              "MEDV          1.000000\n",
              "RM            0.693012\n",
              "ZN            0.374364\n",
              "B             0.334262\n",
              "DIS           0.244523\n",
              "CHAS          0.157011\n",
              "AGE          -0.380750\n",
              "RAD          -0.381768\n",
              "CRIM         -0.394568\n",
              "NOX          -0.432950\n",
              "TAX_SCALED   -0.459569\n",
              "TAX          -0.459569\n",
              "INDUS        -0.473428\n",
              "PTRATIO      -0.528652\n",
              "LSTAT        -0.745558\n",
              "Name: MEDV, dtype: float64"
            ]
          },
          "metadata": {
            "tags": []
          },
          "execution_count": 24
        }
      ]
    },
    {
      "cell_type": "markdown",
      "metadata": {
        "id": "MLoJDOsdz04S"
      },
      "source": [
        "For this, let us pick 2 variables with high positive correlation (RM,ZN) and 2 with high negative correlation (PTRATIO, INDUS).\n",
        "\n",
        "We will do this in the data pipeline section to ensure the same processes are done over the train and test datasets."
      ]
    },
    {
      "cell_type": "markdown",
      "metadata": {
        "id": "FKetx8K9f9BO"
      },
      "source": [
        "**EXERCISE: Does Iris dataset need any feature selection?**"
      ]
    },
    {
      "cell_type": "markdown",
      "metadata": {
        "id": "RBOFQfbPtoti"
      },
      "source": [
        "### Data Pipeline"
      ]
    },
    {
      "cell_type": "markdown",
      "metadata": {
        "id": "YUr5pgtrnDYX"
      },
      "source": [
        "It is important to ensure your data pipeline is in place so that operations done on one dataset can be replicated across any other dataset. When doing any feature engineering, this code can be deployed on any dataset to ensure consistency in the experimentation.\n",
        "\n",
        "We need to replicate the feature engineering that was done on the train data over our test data. This would be easy if the code is written is a very general way."
      ]
    },
    {
      "cell_type": "code",
      "metadata": {
        "id": "ZUaG9YWB8pHQ"
      },
      "source": [
        "#In our boston dataset, we added a new column called TAX_SCALED on our train data. We need to replicate it on test.\n",
        "#Generalized the code from above into a function format so we can replicate it on our test dataset.\n",
        "def scaleColumn(df,column_name):\n",
        "  min_max_scaler = preprocessing.MinMaxScaler()\n",
        "  df_col = df[[column_name]]\n",
        "  print(\"Range before scaling: \" + str(df_col[column_name].min()) + \" - \" + str(df_col[column_name].max()))\n",
        "  df_col_scaled = pd.DataFrame(min_max_scaler.fit_transform(df_col), columns=[column_name + \"_SCALED\"])\n",
        "  new_df = pd.concat([df, df_col_scaled], axis=1)\n",
        "  #print(\"Range after scaling: \" + str(df_col[column_name + \"_SCALED\"].min()) + \" - \" + str(df_col[column_name + \"_SCALED\"].max()))\n",
        "  return new_df"
      ],
      "execution_count": null,
      "outputs": []
    },
    {
      "cell_type": "code",
      "metadata": {
        "id": "XjmS0tT8KnSA",
        "outputId": "836de248-9b52-4b55-d7be-da2346a706f6",
        "colab": {
          "base_uri": "https://localhost:8080/",
          "height": 221
        }
      },
      "source": [
        "boston_test = scaleColumn(boston_test,'TAX')\n",
        "boston_test.head(5)"
      ],
      "execution_count": null,
      "outputs": [
        {
          "output_type": "stream",
          "text": [
            "Range before scaling: 188.0 - 711.0\n"
          ],
          "name": "stdout"
        },
        {
          "output_type": "execute_result",
          "data": {
            "text/html": [
              "<div>\n",
              "<style scoped>\n",
              "    .dataframe tbody tr th:only-of-type {\n",
              "        vertical-align: middle;\n",
              "    }\n",
              "\n",
              "    .dataframe tbody tr th {\n",
              "        vertical-align: top;\n",
              "    }\n",
              "\n",
              "    .dataframe thead th {\n",
              "        text-align: right;\n",
              "    }\n",
              "</style>\n",
              "<table border=\"1\" class=\"dataframe\">\n",
              "  <thead>\n",
              "    <tr style=\"text-align: right;\">\n",
              "      <th></th>\n",
              "      <th>CRIM</th>\n",
              "      <th>ZN</th>\n",
              "      <th>INDUS</th>\n",
              "      <th>CHAS</th>\n",
              "      <th>NOX</th>\n",
              "      <th>RM</th>\n",
              "      <th>AGE</th>\n",
              "      <th>DIS</th>\n",
              "      <th>RAD</th>\n",
              "      <th>TAX</th>\n",
              "      <th>PTRATIO</th>\n",
              "      <th>B</th>\n",
              "      <th>LSTAT</th>\n",
              "      <th>MEDV</th>\n",
              "      <th>TAX_SCALED</th>\n",
              "    </tr>\n",
              "  </thead>\n",
              "  <tbody>\n",
              "    <tr>\n",
              "      <th>0</th>\n",
              "      <td>0.11329</td>\n",
              "      <td>30.0</td>\n",
              "      <td>4.93</td>\n",
              "      <td>0.0</td>\n",
              "      <td>0.428</td>\n",
              "      <td>6.897</td>\n",
              "      <td>54.3</td>\n",
              "      <td>6.3361</td>\n",
              "      <td>6.0</td>\n",
              "      <td>300.0</td>\n",
              "      <td>16.6</td>\n",
              "      <td>391.25</td>\n",
              "      <td>11.38</td>\n",
              "      <td>22.0</td>\n",
              "      <td>0.214149</td>\n",
              "    </tr>\n",
              "    <tr>\n",
              "      <th>1</th>\n",
              "      <td>0.82526</td>\n",
              "      <td>20.0</td>\n",
              "      <td>3.97</td>\n",
              "      <td>0.0</td>\n",
              "      <td>0.647</td>\n",
              "      <td>7.327</td>\n",
              "      <td>94.5</td>\n",
              "      <td>2.0788</td>\n",
              "      <td>5.0</td>\n",
              "      <td>264.0</td>\n",
              "      <td>13.0</td>\n",
              "      <td>393.42</td>\n",
              "      <td>11.25</td>\n",
              "      <td>31.0</td>\n",
              "      <td>0.145315</td>\n",
              "    </tr>\n",
              "    <tr>\n",
              "      <th>2</th>\n",
              "      <td>0.35233</td>\n",
              "      <td>0.0</td>\n",
              "      <td>21.89</td>\n",
              "      <td>0.0</td>\n",
              "      <td>0.624</td>\n",
              "      <td>6.454</td>\n",
              "      <td>98.4</td>\n",
              "      <td>1.8498</td>\n",
              "      <td>4.0</td>\n",
              "      <td>437.0</td>\n",
              "      <td>21.2</td>\n",
              "      <td>394.08</td>\n",
              "      <td>14.59</td>\n",
              "      <td>17.1</td>\n",
              "      <td>0.476099</td>\n",
              "    </tr>\n",
              "    <tr>\n",
              "      <th>3</th>\n",
              "      <td>1.15172</td>\n",
              "      <td>0.0</td>\n",
              "      <td>8.14</td>\n",
              "      <td>0.0</td>\n",
              "      <td>0.538</td>\n",
              "      <td>5.701</td>\n",
              "      <td>95.0</td>\n",
              "      <td>3.7872</td>\n",
              "      <td>4.0</td>\n",
              "      <td>307.0</td>\n",
              "      <td>21.0</td>\n",
              "      <td>358.77</td>\n",
              "      <td>18.35</td>\n",
              "      <td>13.1</td>\n",
              "      <td>0.227533</td>\n",
              "    </tr>\n",
              "    <tr>\n",
              "      <th>4</th>\n",
              "      <td>0.21124</td>\n",
              "      <td>12.5</td>\n",
              "      <td>7.87</td>\n",
              "      <td>0.0</td>\n",
              "      <td>0.524</td>\n",
              "      <td>5.631</td>\n",
              "      <td>100.0</td>\n",
              "      <td>6.0821</td>\n",
              "      <td>5.0</td>\n",
              "      <td>311.0</td>\n",
              "      <td>15.2</td>\n",
              "      <td>386.63</td>\n",
              "      <td>29.93</td>\n",
              "      <td>16.5</td>\n",
              "      <td>0.235182</td>\n",
              "    </tr>\n",
              "  </tbody>\n",
              "</table>\n",
              "</div>"
            ],
            "text/plain": [
              "      CRIM    ZN  INDUS  CHAS    NOX  ...  PTRATIO       B  LSTAT  MEDV  TAX_SCALED\n",
              "0  0.11329  30.0   4.93   0.0  0.428  ...     16.6  391.25  11.38  22.0    0.214149\n",
              "1  0.82526  20.0   3.97   0.0  0.647  ...     13.0  393.42  11.25  31.0    0.145315\n",
              "2  0.35233   0.0  21.89   0.0  0.624  ...     21.2  394.08  14.59  17.1    0.476099\n",
              "3  1.15172   0.0   8.14   0.0  0.538  ...     21.0  358.77  18.35  13.1    0.227533\n",
              "4  0.21124  12.5   7.87   0.0  0.524  ...     15.2  386.63  29.93  16.5    0.235182\n",
              "\n",
              "[5 rows x 15 columns]"
            ]
          },
          "metadata": {
            "tags": []
          },
          "execution_count": 26
        }
      ]
    },
    {
      "cell_type": "markdown",
      "metadata": {
        "id": "VqY3-ZtCKz8n"
      },
      "source": [
        "If you have done any other operations on your data, generalize it to a function which can be applied to both your train and test datasets.\n",
        "\n",
        "**EXERCISE: Generalize any other data operations you have done on your training data**"
      ]
    },
    {
      "cell_type": "markdown",
      "metadata": {
        "id": "a04lcHfzLxu7"
      },
      "source": [
        "## Split Data into Features and Labels"
      ]
    },
    {
      "cell_type": "markdown",
      "metadata": {
        "id": "6vIJRU3sL217"
      },
      "source": [
        "For machine learning problems, you need to split your data into features and labels.\n",
        "\n",
        "\n",
        "1.   Features - Input X to the model\n",
        "2.   Label - Expected output Y\n",
        "\n",
        "Therefore, we will further split these train and test datasets by columns, so that for every dataset we have **features** and **labels** to denote if they are the input columns or the predict to columns\n",
        "\n"
      ]
    },
    {
      "cell_type": "markdown",
      "metadata": {
        "id": "IKxj462JMJbY"
      },
      "source": [
        "For the Iris dataset, we are going to use all the columns as input features and predict 'species'"
      ]
    },
    {
      "cell_type": "code",
      "metadata": {
        "id": "0o_3XywdMPFj",
        "outputId": "ffd91569-1e44-4f02-e109-ee52fc433c27",
        "colab": {
          "base_uri": "https://localhost:8080/",
          "height": 102
        }
      },
      "source": [
        "#define input and predict to columns\n",
        "iris_features = ['sepal length (cm)', 'sepal width (cm)', 'petal length (cm)', 'petal width (cm)']\n",
        "iris_labels = ['species']\n",
        "\n",
        "print('IRIS DATASET')\n",
        "print(\"Features - \" + str(iris_features))\n",
        "print(\"Labels - \" + str(iris_labels))\n",
        "\n",
        "iris_train_features = iris_train[iris_features]\n",
        "iris_train_labels = iris_train[iris_labels]\n",
        "print('✔ Train data split into features and labels')\n",
        "\n",
        "iris_test_features = iris_test[iris_features]\n",
        "iris_test_labels = iris_test[iris_labels]\n",
        "print('✔ Test data split into features and labels')"
      ],
      "execution_count": null,
      "outputs": [
        {
          "output_type": "stream",
          "text": [
            "IRIS DATASET\n",
            "Features - ['sepal length (cm)', 'sepal width (cm)', 'petal length (cm)', 'petal width (cm)']\n",
            "Labels - ['species']\n",
            "✔ Train data split into features and labels\n",
            "✔ Test data split into features and labels\n"
          ],
          "name": "stdout"
        }
      ]
    },
    {
      "cell_type": "markdown",
      "metadata": {
        "id": "k9Qk_D6AMd0b"
      },
      "source": [
        "For the Boston dataset, we are going to use only input columns we selected from the Feature Selection process (RM, ZN, PTRATIO, INDUS) and the output column would be 'MEDV'"
      ]
    },
    {
      "cell_type": "code",
      "metadata": {
        "id": "ddLpWtflMuEx",
        "outputId": "25fa7419-ba21-4d8a-c2ce-c7cd1ecfd91b",
        "colab": {
          "base_uri": "https://localhost:8080/",
          "height": 102
        }
      },
      "source": [
        "#define input and predict to ccolumns\n",
        "boston_features = ['RM', 'ZN', 'PTRATIO', 'INDUS']\n",
        "boston_labels = ['MEDV']\n",
        "\n",
        "print('BOSTON DATASET')\n",
        "print(\"Features - \" + str(boston_features))\n",
        "print(\"Labels - \" + str(boston_labels))\n",
        "\n",
        "boston_train_features = boston_train[boston_features]\n",
        "boston_train_labels = boston_train[boston_labels]\n",
        "print('✔ Train data split into features and labels')\n",
        "\n",
        "boston_test_features = boston_test[boston_features]\n",
        "boston_test_labels = boston_test[boston_labels]\n",
        "print('✔ Test data split into features and labels')"
      ],
      "execution_count": null,
      "outputs": [
        {
          "output_type": "stream",
          "text": [
            "BOSTON DATASET\n",
            "Features - ['RM', 'ZN', 'PTRATIO', 'INDUS']\n",
            "Labels - ['MEDV']\n",
            "✔ Train data split into features and labels\n",
            "✔ Test data split into features and labels\n"
          ],
          "name": "stdout"
        }
      ]
    },
    {
      "cell_type": "markdown",
      "metadata": {
        "id": "J8BoS1PUcVNk"
      },
      "source": [
        "## Model Creation"
      ]
    },
    {
      "cell_type": "markdown",
      "metadata": {
        "id": "cOe_sC-x3rs7"
      },
      "source": [
        "### Classification with Iris Data\n",
        "\n",
        "We are going to use 3 different classification models for this exercise\n",
        "\n",
        "1.   Naive Bayes\n",
        "2.   Decision Trees\n",
        "1.   Random Forest"
      ]
    },
    {
      "cell_type": "markdown",
      "metadata": {
        "id": "fxYW1vA-4GVi"
      },
      "source": [
        "#### Gaussian Naive Bayes\n",
        "Documentation at https://scikit-learn.org/stable/modules/generated/sklearn.naive_bayes.GaussianNB.html\n",
        "\n",
        "https://machinelearningmastery.com/naive-bayes-for-machine-learning/\n",
        "\n",
        "Naive Bayes is a classification algorithm for binary (two-class) and multi-class classification problems. The technique is easiest to understand when described using binary or categorical input values.\n",
        "\n",
        "It is called naive Bayes or idiot Bayes because the calculation of the probabilities for each hypothesis are simplified to make their calculation tractable. Rather than attempting to calculate the values of each attribute value P(d1, d2, d3|h), they are assumed to be conditionally independent given the target value and calculated as P(d1|h) * P(d2|H) and so on."
      ]
    },
    {
      "cell_type": "code",
      "metadata": {
        "id": "JtnqhmUYpZR7"
      },
      "source": [
        "def get_prediction_probability(predictions, probabilities):\n",
        "  top_probability = pd.Series(dtype = \"float64\")\n",
        "  for index in range(0,len(predictions)):\n",
        "    top_probability = top_probability.append(pd.Series([probabilities[index][predictions[index]]]))\n",
        "  top_probability.reset_index(drop=True, inplace=True)\n",
        "  return top_probability"
      ],
      "execution_count": null,
      "outputs": []
    },
    {
      "cell_type": "code",
      "metadata": {
        "id": "jcIYRehviVmq",
        "outputId": "16ff42f6-a447-4645-ca0f-22b8aaed72b5",
        "colab": {
          "base_uri": "https://localhost:8080/",
          "height": 68
        }
      },
      "source": [
        "#Create the model object and train\n",
        "gnb = GaussianNB()\n",
        "gnb.fit(iris_train_features, iris_train_labels)"
      ],
      "execution_count": null,
      "outputs": [
        {
          "output_type": "stream",
          "text": [
            "/usr/local/lib/python3.6/dist-packages/sklearn/naive_bayes.py:206: DataConversionWarning: A column-vector y was passed when a 1d array was expected. Please change the shape of y to (n_samples, ), for example using ravel().\n",
            "  y = column_or_1d(y, warn=True)\n"
          ],
          "name": "stderr"
        },
        {
          "output_type": "execute_result",
          "data": {
            "text/plain": [
              "GaussianNB(priors=None, var_smoothing=1e-09)"
            ]
          },
          "metadata": {
            "tags": []
          },
          "execution_count": 30
        }
      ]
    },
    {
      "cell_type": "code",
      "metadata": {
        "id": "11UR4z13jBpF",
        "outputId": "bd7a1a46-8301-4eed-b05a-e45735e93d6b",
        "colab": {
          "base_uri": "https://localhost:8080/",
          "height": 51
        }
      },
      "source": [
        "#Predictions on the Test data\n",
        "#predictions on 2 rows only\n",
        "predictions_gnb = gnb.predict(iris_test_features)\n",
        "predictions_gnb"
      ],
      "execution_count": null,
      "outputs": [
        {
          "output_type": "execute_result",
          "data": {
            "text/plain": [
              "array([1, 2, 0, 0, 0, 1, 2, 0, 1, 0, 2, 2, 0, 2, 1, 2, 2, 1, 0, 2, 0, 0,\n",
              "       1, 0, 2, 0, 2, 1, 2, 1])"
            ]
          },
          "metadata": {
            "tags": []
          },
          "execution_count": 31
        }
      ]
    },
    {
      "cell_type": "code",
      "metadata": {
        "id": "b7fcznFUo63x",
        "outputId": "601c6286-084a-4692-a107-ca7ad7457490",
        "colab": {
          "base_uri": "https://localhost:8080/",
          "height": 119
        }
      },
      "source": [
        "predictions_probability_gnb = np.array(get_prediction_probability(predictions_gnb, gnb.predict_proba(iris_test_features)[:,]))\n",
        "predictions_probability_gnb"
      ],
      "execution_count": null,
      "outputs": [
        {
          "output_type": "execute_result",
          "data": {
            "text/plain": [
              "array([0.99999757, 0.9523106 , 1.        , 1.        , 1.        ,\n",
              "       0.99877623, 0.99999995, 1.        , 0.99995872, 1.        ,\n",
              "       0.89113122, 0.9979912 , 1.        , 1.        , 0.98953344,\n",
              "       0.83587842, 1.        , 0.99974122, 1.        , 0.99999988,\n",
              "       1.        , 1.        , 0.80559684, 1.        , 1.        ,\n",
              "       1.        , 0.99999986, 0.99879941, 0.99946289, 0.99993048])"
            ]
          },
          "metadata": {
            "tags": []
          },
          "execution_count": 32
        }
      ]
    },
    {
      "cell_type": "code",
      "metadata": {
        "id": "EAyxFlHMkwJ3",
        "outputId": "0797cf6e-8287-4881-ab62-17dbff8a846d",
        "colab": {
          "base_uri": "https://localhost:8080/",
          "height": 204
        }
      },
      "source": [
        "#Putting the above 2 cells together to create a readable df\n",
        "gnb_df = pd.DataFrame(predictions_gnb.reshape(len(predictions_gnb),1))\n",
        "gnb_df.rename(columns={0:'gnb_prediction'}, inplace=True)\n",
        "gnb_df['gnb_probability'] = predictions_probability_gnb\n",
        "gnb_df.head(5)"
      ],
      "execution_count": null,
      "outputs": [
        {
          "output_type": "execute_result",
          "data": {
            "text/html": [
              "<div>\n",
              "<style scoped>\n",
              "    .dataframe tbody tr th:only-of-type {\n",
              "        vertical-align: middle;\n",
              "    }\n",
              "\n",
              "    .dataframe tbody tr th {\n",
              "        vertical-align: top;\n",
              "    }\n",
              "\n",
              "    .dataframe thead th {\n",
              "        text-align: right;\n",
              "    }\n",
              "</style>\n",
              "<table border=\"1\" class=\"dataframe\">\n",
              "  <thead>\n",
              "    <tr style=\"text-align: right;\">\n",
              "      <th></th>\n",
              "      <th>gnb_prediction</th>\n",
              "      <th>gnb_probability</th>\n",
              "    </tr>\n",
              "  </thead>\n",
              "  <tbody>\n",
              "    <tr>\n",
              "      <th>0</th>\n",
              "      <td>1</td>\n",
              "      <td>0.999998</td>\n",
              "    </tr>\n",
              "    <tr>\n",
              "      <th>1</th>\n",
              "      <td>2</td>\n",
              "      <td>0.952311</td>\n",
              "    </tr>\n",
              "    <tr>\n",
              "      <th>2</th>\n",
              "      <td>0</td>\n",
              "      <td>1.000000</td>\n",
              "    </tr>\n",
              "    <tr>\n",
              "      <th>3</th>\n",
              "      <td>0</td>\n",
              "      <td>1.000000</td>\n",
              "    </tr>\n",
              "    <tr>\n",
              "      <th>4</th>\n",
              "      <td>0</td>\n",
              "      <td>1.000000</td>\n",
              "    </tr>\n",
              "  </tbody>\n",
              "</table>\n",
              "</div>"
            ],
            "text/plain": [
              "   gnb_prediction  gnb_probability\n",
              "0               1         0.999998\n",
              "1               2         0.952311\n",
              "2               0         1.000000\n",
              "3               0         1.000000\n",
              "4               0         1.000000"
            ]
          },
          "metadata": {
            "tags": []
          },
          "execution_count": 33
        }
      ]
    },
    {
      "cell_type": "code",
      "metadata": {
        "id": "LscltWDQluvU",
        "outputId": "e96bdc5e-4b4b-46a6-d463-7202c81c9077",
        "colab": {
          "base_uri": "https://localhost:8080/",
          "height": 204
        }
      },
      "source": [
        "#Concatonating the predictions of naive bayes to the iris_test dataset\n",
        "iris_test = iris_test.reset_index(drop=True)\n",
        "iris_test_prediction = pd.concat([iris_test_labels, gnb_df], axis=1)\n",
        "iris_test_prediction.head(5)"
      ],
      "execution_count": null,
      "outputs": [
        {
          "output_type": "execute_result",
          "data": {
            "text/html": [
              "<div>\n",
              "<style scoped>\n",
              "    .dataframe tbody tr th:only-of-type {\n",
              "        vertical-align: middle;\n",
              "    }\n",
              "\n",
              "    .dataframe tbody tr th {\n",
              "        vertical-align: top;\n",
              "    }\n",
              "\n",
              "    .dataframe thead th {\n",
              "        text-align: right;\n",
              "    }\n",
              "</style>\n",
              "<table border=\"1\" class=\"dataframe\">\n",
              "  <thead>\n",
              "    <tr style=\"text-align: right;\">\n",
              "      <th></th>\n",
              "      <th>species</th>\n",
              "      <th>gnb_prediction</th>\n",
              "      <th>gnb_probability</th>\n",
              "    </tr>\n",
              "  </thead>\n",
              "  <tbody>\n",
              "    <tr>\n",
              "      <th>0</th>\n",
              "      <td>1</td>\n",
              "      <td>1</td>\n",
              "      <td>0.999998</td>\n",
              "    </tr>\n",
              "    <tr>\n",
              "      <th>1</th>\n",
              "      <td>2</td>\n",
              "      <td>2</td>\n",
              "      <td>0.952311</td>\n",
              "    </tr>\n",
              "    <tr>\n",
              "      <th>2</th>\n",
              "      <td>0</td>\n",
              "      <td>0</td>\n",
              "      <td>1.000000</td>\n",
              "    </tr>\n",
              "    <tr>\n",
              "      <th>3</th>\n",
              "      <td>0</td>\n",
              "      <td>0</td>\n",
              "      <td>1.000000</td>\n",
              "    </tr>\n",
              "    <tr>\n",
              "      <th>4</th>\n",
              "      <td>0</td>\n",
              "      <td>0</td>\n",
              "      <td>1.000000</td>\n",
              "    </tr>\n",
              "  </tbody>\n",
              "</table>\n",
              "</div>"
            ],
            "text/plain": [
              "   species  gnb_prediction  gnb_probability\n",
              "0        1               1         0.999998\n",
              "1        2               2         0.952311\n",
              "2        0               0         1.000000\n",
              "3        0               0         1.000000\n",
              "4        0               0         1.000000"
            ]
          },
          "metadata": {
            "tags": []
          },
          "execution_count": 34
        }
      ]
    },
    {
      "cell_type": "markdown",
      "metadata": {
        "id": "nJzPy4BT4oPU"
      },
      "source": [
        "#### Decision Trees\n",
        "Documentation at https://scikit-learn.org/stable/modules/generated/sklearn.tree.DecisionTreeClassifier.html"
      ]
    },
    {
      "cell_type": "code",
      "metadata": {
        "id": "liPbQE3-4sXY",
        "outputId": "c891e853-4f44-44cc-af68-3f5297e327ed",
        "colab": {
          "base_uri": "https://localhost:8080/",
          "height": 204
        }
      },
      "source": [
        "#Create the model object and train\n",
        "dt = tree.DecisionTreeClassifier()\n",
        "dt.fit(iris_train_features, iris_train_labels)\n",
        "\n",
        "#Predictions on the Test data\n",
        "predictions_dt = dt.predict(iris_test_features)\n",
        "\n",
        "#Getting the probabilities for these predictions\n",
        "predictions_probability_dt = np.array(get_prediction_probability(predictions_dt, dt.predict_proba(iris_test_features)[:,]))\n",
        "\n",
        "#Putting the above two together to create a readable df\n",
        "dt_df = pd.DataFrame(predictions_dt.reshape(len(predictions_dt),1))\n",
        "dt_df.rename(columns={0:'dt_prediction'}, inplace=True)\n",
        "dt_df['dt_probability'] = predictions_probability_dt\n",
        "dt_df.head(5)"
      ],
      "execution_count": null,
      "outputs": [
        {
          "output_type": "execute_result",
          "data": {
            "text/html": [
              "<div>\n",
              "<style scoped>\n",
              "    .dataframe tbody tr th:only-of-type {\n",
              "        vertical-align: middle;\n",
              "    }\n",
              "\n",
              "    .dataframe tbody tr th {\n",
              "        vertical-align: top;\n",
              "    }\n",
              "\n",
              "    .dataframe thead th {\n",
              "        text-align: right;\n",
              "    }\n",
              "</style>\n",
              "<table border=\"1\" class=\"dataframe\">\n",
              "  <thead>\n",
              "    <tr style=\"text-align: right;\">\n",
              "      <th></th>\n",
              "      <th>dt_prediction</th>\n",
              "      <th>dt_probability</th>\n",
              "    </tr>\n",
              "  </thead>\n",
              "  <tbody>\n",
              "    <tr>\n",
              "      <th>0</th>\n",
              "      <td>1</td>\n",
              "      <td>1.0</td>\n",
              "    </tr>\n",
              "    <tr>\n",
              "      <th>1</th>\n",
              "      <td>2</td>\n",
              "      <td>1.0</td>\n",
              "    </tr>\n",
              "    <tr>\n",
              "      <th>2</th>\n",
              "      <td>0</td>\n",
              "      <td>1.0</td>\n",
              "    </tr>\n",
              "    <tr>\n",
              "      <th>3</th>\n",
              "      <td>0</td>\n",
              "      <td>1.0</td>\n",
              "    </tr>\n",
              "    <tr>\n",
              "      <th>4</th>\n",
              "      <td>0</td>\n",
              "      <td>1.0</td>\n",
              "    </tr>\n",
              "  </tbody>\n",
              "</table>\n",
              "</div>"
            ],
            "text/plain": [
              "   dt_prediction  dt_probability\n",
              "0              1             1.0\n",
              "1              2             1.0\n",
              "2              0             1.0\n",
              "3              0             1.0\n",
              "4              0             1.0"
            ]
          },
          "metadata": {
            "tags": []
          },
          "execution_count": 35
        }
      ]
    },
    {
      "cell_type": "code",
      "metadata": {
        "id": "4FW1KIW25C0u",
        "outputId": "a7c560c5-7b3e-47c6-b4b8-590c675a6931",
        "colab": {
          "base_uri": "https://localhost:8080/",
          "height": 204
        }
      },
      "source": [
        "#Concatonating the predictions of decision tree to the iris_test dataset\n",
        "iris_test = iris_test.reset_index(drop=True)\n",
        "iris_test_prediction = pd.concat([iris_test_prediction, dt_df], axis=1)\n",
        "iris_test_prediction.head(5)"
      ],
      "execution_count": null,
      "outputs": [
        {
          "output_type": "execute_result",
          "data": {
            "text/html": [
              "<div>\n",
              "<style scoped>\n",
              "    .dataframe tbody tr th:only-of-type {\n",
              "        vertical-align: middle;\n",
              "    }\n",
              "\n",
              "    .dataframe tbody tr th {\n",
              "        vertical-align: top;\n",
              "    }\n",
              "\n",
              "    .dataframe thead th {\n",
              "        text-align: right;\n",
              "    }\n",
              "</style>\n",
              "<table border=\"1\" class=\"dataframe\">\n",
              "  <thead>\n",
              "    <tr style=\"text-align: right;\">\n",
              "      <th></th>\n",
              "      <th>species</th>\n",
              "      <th>gnb_prediction</th>\n",
              "      <th>gnb_probability</th>\n",
              "      <th>dt_prediction</th>\n",
              "      <th>dt_probability</th>\n",
              "    </tr>\n",
              "  </thead>\n",
              "  <tbody>\n",
              "    <tr>\n",
              "      <th>0</th>\n",
              "      <td>1</td>\n",
              "      <td>1</td>\n",
              "      <td>0.999998</td>\n",
              "      <td>1</td>\n",
              "      <td>1.0</td>\n",
              "    </tr>\n",
              "    <tr>\n",
              "      <th>1</th>\n",
              "      <td>2</td>\n",
              "      <td>2</td>\n",
              "      <td>0.952311</td>\n",
              "      <td>2</td>\n",
              "      <td>1.0</td>\n",
              "    </tr>\n",
              "    <tr>\n",
              "      <th>2</th>\n",
              "      <td>0</td>\n",
              "      <td>0</td>\n",
              "      <td>1.000000</td>\n",
              "      <td>0</td>\n",
              "      <td>1.0</td>\n",
              "    </tr>\n",
              "    <tr>\n",
              "      <th>3</th>\n",
              "      <td>0</td>\n",
              "      <td>0</td>\n",
              "      <td>1.000000</td>\n",
              "      <td>0</td>\n",
              "      <td>1.0</td>\n",
              "    </tr>\n",
              "    <tr>\n",
              "      <th>4</th>\n",
              "      <td>0</td>\n",
              "      <td>0</td>\n",
              "      <td>1.000000</td>\n",
              "      <td>0</td>\n",
              "      <td>1.0</td>\n",
              "    </tr>\n",
              "  </tbody>\n",
              "</table>\n",
              "</div>"
            ],
            "text/plain": [
              "   species  gnb_prediction  gnb_probability  dt_prediction  dt_probability\n",
              "0        1               1         0.999998              1             1.0\n",
              "1        2               2         0.952311              2             1.0\n",
              "2        0               0         1.000000              0             1.0\n",
              "3        0               0         1.000000              0             1.0\n",
              "4        0               0         1.000000              0             1.0"
            ]
          },
          "metadata": {
            "tags": []
          },
          "execution_count": 36
        }
      ]
    },
    {
      "cell_type": "markdown",
      "metadata": {
        "id": "a7LtZ5bj5y-D"
      },
      "source": [
        "#### Logistic Regression\n",
        "Documentation at https://scikit-learn.org/stable/modules/generated/sklearn.linear_model.LogisticRegression.html"
      ]
    },
    {
      "cell_type": "code",
      "metadata": {
        "id": "6DBb3FN06DVL",
        "outputId": "04d8e30f-f2f5-4485-c872-8ac69c5a48c2",
        "colab": {
          "base_uri": "https://localhost:8080/",
          "height": 374
        }
      },
      "source": [
        "#Create the model object and train\n",
        "logr = LogisticRegression()\n",
        "logr.fit(iris_train_features, iris_train_labels)\n",
        "\n",
        "#Predictions on the Test data\n",
        "predictions_logr = logr.predict(iris_test_features)\n",
        "\n",
        "#Getting the probabilities for these predictions\n",
        "predictions_probability_logr = np.array(get_prediction_probability(predictions_logr, logr.predict_proba(iris_test_features)[:,]))\n",
        "\n",
        "#Putting the above predictions and probabilities together to create a readable df\n",
        "logr_df = pd.DataFrame(predictions_logr.reshape(len(predictions_logr),1))\n",
        "logr_df.rename(columns={0:'logr_prediction'}, inplace=True)\n",
        "logr_df['logr_probability'] = predictions_probability_logr\n",
        "logr_df.head(5)"
      ],
      "execution_count": null,
      "outputs": [
        {
          "output_type": "stream",
          "text": [
            "/usr/local/lib/python3.6/dist-packages/sklearn/utils/validation.py:760: DataConversionWarning: A column-vector y was passed when a 1d array was expected. Please change the shape of y to (n_samples, ), for example using ravel().\n",
            "  y = column_or_1d(y, warn=True)\n",
            "/usr/local/lib/python3.6/dist-packages/sklearn/linear_model/_logistic.py:940: ConvergenceWarning: lbfgs failed to converge (status=1):\n",
            "STOP: TOTAL NO. of ITERATIONS REACHED LIMIT.\n",
            "\n",
            "Increase the number of iterations (max_iter) or scale the data as shown in:\n",
            "    https://scikit-learn.org/stable/modules/preprocessing.html\n",
            "Please also refer to the documentation for alternative solver options:\n",
            "    https://scikit-learn.org/stable/modules/linear_model.html#logistic-regression\n",
            "  extra_warning_msg=_LOGISTIC_SOLVER_CONVERGENCE_MSG)\n"
          ],
          "name": "stderr"
        },
        {
          "output_type": "execute_result",
          "data": {
            "text/html": [
              "<div>\n",
              "<style scoped>\n",
              "    .dataframe tbody tr th:only-of-type {\n",
              "        vertical-align: middle;\n",
              "    }\n",
              "\n",
              "    .dataframe tbody tr th {\n",
              "        vertical-align: top;\n",
              "    }\n",
              "\n",
              "    .dataframe thead th {\n",
              "        text-align: right;\n",
              "    }\n",
              "</style>\n",
              "<table border=\"1\" class=\"dataframe\">\n",
              "  <thead>\n",
              "    <tr style=\"text-align: right;\">\n",
              "      <th></th>\n",
              "      <th>logr_prediction</th>\n",
              "      <th>logr_probability</th>\n",
              "    </tr>\n",
              "  </thead>\n",
              "  <tbody>\n",
              "    <tr>\n",
              "      <th>0</th>\n",
              "      <td>1</td>\n",
              "      <td>0.928563</td>\n",
              "    </tr>\n",
              "    <tr>\n",
              "      <th>1</th>\n",
              "      <td>2</td>\n",
              "      <td>0.766414</td>\n",
              "    </tr>\n",
              "    <tr>\n",
              "      <th>2</th>\n",
              "      <td>0</td>\n",
              "      <td>0.976893</td>\n",
              "    </tr>\n",
              "    <tr>\n",
              "      <th>3</th>\n",
              "      <td>0</td>\n",
              "      <td>0.983923</td>\n",
              "    </tr>\n",
              "    <tr>\n",
              "      <th>4</th>\n",
              "      <td>0</td>\n",
              "      <td>0.972619</td>\n",
              "    </tr>\n",
              "  </tbody>\n",
              "</table>\n",
              "</div>"
            ],
            "text/plain": [
              "   logr_prediction  logr_probability\n",
              "0                1          0.928563\n",
              "1                2          0.766414\n",
              "2                0          0.976893\n",
              "3                0          0.983923\n",
              "4                0          0.972619"
            ]
          },
          "metadata": {
            "tags": []
          },
          "execution_count": 37
        }
      ]
    },
    {
      "cell_type": "code",
      "metadata": {
        "id": "aT8ItB0m6YWK",
        "outputId": "7171057f-49f2-4df8-a8fd-0a1d27402be8",
        "colab": {
          "base_uri": "https://localhost:8080/",
          "height": 204
        }
      },
      "source": [
        "#Concatonating the predictions of decision tree to the iris_test dataset\n",
        "iris_test_prediction = pd.concat([iris_test_prediction, logr_df], axis=1)\n",
        "iris_test_prediction.head(5)"
      ],
      "execution_count": null,
      "outputs": [
        {
          "output_type": "execute_result",
          "data": {
            "text/html": [
              "<div>\n",
              "<style scoped>\n",
              "    .dataframe tbody tr th:only-of-type {\n",
              "        vertical-align: middle;\n",
              "    }\n",
              "\n",
              "    .dataframe tbody tr th {\n",
              "        vertical-align: top;\n",
              "    }\n",
              "\n",
              "    .dataframe thead th {\n",
              "        text-align: right;\n",
              "    }\n",
              "</style>\n",
              "<table border=\"1\" class=\"dataframe\">\n",
              "  <thead>\n",
              "    <tr style=\"text-align: right;\">\n",
              "      <th></th>\n",
              "      <th>species</th>\n",
              "      <th>gnb_prediction</th>\n",
              "      <th>gnb_probability</th>\n",
              "      <th>dt_prediction</th>\n",
              "      <th>dt_probability</th>\n",
              "      <th>logr_prediction</th>\n",
              "      <th>logr_probability</th>\n",
              "    </tr>\n",
              "  </thead>\n",
              "  <tbody>\n",
              "    <tr>\n",
              "      <th>0</th>\n",
              "      <td>1</td>\n",
              "      <td>1</td>\n",
              "      <td>0.999998</td>\n",
              "      <td>1</td>\n",
              "      <td>1.0</td>\n",
              "      <td>1</td>\n",
              "      <td>0.928563</td>\n",
              "    </tr>\n",
              "    <tr>\n",
              "      <th>1</th>\n",
              "      <td>2</td>\n",
              "      <td>2</td>\n",
              "      <td>0.952311</td>\n",
              "      <td>2</td>\n",
              "      <td>1.0</td>\n",
              "      <td>2</td>\n",
              "      <td>0.766414</td>\n",
              "    </tr>\n",
              "    <tr>\n",
              "      <th>2</th>\n",
              "      <td>0</td>\n",
              "      <td>0</td>\n",
              "      <td>1.000000</td>\n",
              "      <td>0</td>\n",
              "      <td>1.0</td>\n",
              "      <td>0</td>\n",
              "      <td>0.976893</td>\n",
              "    </tr>\n",
              "    <tr>\n",
              "      <th>3</th>\n",
              "      <td>0</td>\n",
              "      <td>0</td>\n",
              "      <td>1.000000</td>\n",
              "      <td>0</td>\n",
              "      <td>1.0</td>\n",
              "      <td>0</td>\n",
              "      <td>0.983923</td>\n",
              "    </tr>\n",
              "    <tr>\n",
              "      <th>4</th>\n",
              "      <td>0</td>\n",
              "      <td>0</td>\n",
              "      <td>1.000000</td>\n",
              "      <td>0</td>\n",
              "      <td>1.0</td>\n",
              "      <td>0</td>\n",
              "      <td>0.972619</td>\n",
              "    </tr>\n",
              "  </tbody>\n",
              "</table>\n",
              "</div>"
            ],
            "text/plain": [
              "   species  gnb_prediction  ...  logr_prediction  logr_probability\n",
              "0        1               1  ...                1          0.928563\n",
              "1        2               2  ...                2          0.766414\n",
              "2        0               0  ...                0          0.976893\n",
              "3        0               0  ...                0          0.983923\n",
              "4        0               0  ...                0          0.972619\n",
              "\n",
              "[5 rows x 7 columns]"
            ]
          },
          "metadata": {
            "tags": []
          },
          "execution_count": 38
        }
      ]
    },
    {
      "cell_type": "markdown",
      "metadata": {
        "id": "c_8HH1476i5W"
      },
      "source": [
        "Now we have predictions from 3 classification models on the Iris dataset for comparison in the next section."
      ]
    },
    {
      "cell_type": "markdown",
      "metadata": {
        "id": "BSq2s1WP3wpF"
      },
      "source": [
        "### Regression with Boston Data"
      ]
    },
    {
      "cell_type": "markdown",
      "metadata": {
        "id": "8Us7ocgB6od4"
      },
      "source": [
        "#### Linear Regression\n",
        "Documentation at https://scikit-learn.org/stable/modules/generated/sklearn.linear_model.LinearRegression.html"
      ]
    },
    {
      "cell_type": "code",
      "metadata": {
        "id": "kpBb4TQK7O14",
        "outputId": "a48dd48a-7b36-4963-c5ea-3f60b5c434f0",
        "colab": {
          "base_uri": "https://localhost:8080/",
          "height": 204
        }
      },
      "source": [
        "lr = LinearRegression().fit(boston_train_features, boston_train_labels)\n",
        "\n",
        "#Predictions on the Test data\n",
        "predictions_lr = lr.predict(boston_test_features)\n",
        "\n",
        "#Putting the above predictions and probabilities together to create a readable df\n",
        "lr_df = pd.DataFrame(predictions_lr.reshape(len(predictions_lr),1))\n",
        "lr_df.rename(columns={0:'lr_prediction'}, inplace=True)\n",
        "lr_df.head(5)"
      ],
      "execution_count": null,
      "outputs": [
        {
          "output_type": "execute_result",
          "data": {
            "text/html": [
              "<div>\n",
              "<style scoped>\n",
              "    .dataframe tbody tr th:only-of-type {\n",
              "        vertical-align: middle;\n",
              "    }\n",
              "\n",
              "    .dataframe tbody tr th {\n",
              "        vertical-align: top;\n",
              "    }\n",
              "\n",
              "    .dataframe thead th {\n",
              "        text-align: right;\n",
              "    }\n",
              "</style>\n",
              "<table border=\"1\" class=\"dataframe\">\n",
              "  <thead>\n",
              "    <tr style=\"text-align: right;\">\n",
              "      <th></th>\n",
              "      <th>lr_prediction</th>\n",
              "    </tr>\n",
              "  </thead>\n",
              "  <tbody>\n",
              "    <tr>\n",
              "      <th>0</th>\n",
              "      <td>30.555493</td>\n",
              "    </tr>\n",
              "    <tr>\n",
              "      <th>1</th>\n",
              "      <td>37.829631</td>\n",
              "    </tr>\n",
              "    <tr>\n",
              "      <th>2</th>\n",
              "      <td>18.302376</td>\n",
              "    </tr>\n",
              "    <tr>\n",
              "      <th>3</th>\n",
              "      <td>16.273197</td>\n",
              "    </tr>\n",
              "    <tr>\n",
              "      <th>4</th>\n",
              "      <td>22.648703</td>\n",
              "    </tr>\n",
              "  </tbody>\n",
              "</table>\n",
              "</div>"
            ],
            "text/plain": [
              "   lr_prediction\n",
              "0      30.555493\n",
              "1      37.829631\n",
              "2      18.302376\n",
              "3      16.273197\n",
              "4      22.648703"
            ]
          },
          "metadata": {
            "tags": []
          },
          "execution_count": 39
        }
      ]
    },
    {
      "cell_type": "code",
      "metadata": {
        "id": "AzhkiGE57pCH",
        "outputId": "a8bcda59-b82b-4100-af7e-3300db9d999e",
        "colab": {
          "base_uri": "https://localhost:8080/",
          "height": 204
        }
      },
      "source": [
        "#Concatonating the predictions of decision tree to the iris_test dataset\n",
        "boston_test_prediction = pd.concat([boston_test_labels, lr_df], axis=1)\n",
        "boston_test_prediction.head(5)"
      ],
      "execution_count": null,
      "outputs": [
        {
          "output_type": "execute_result",
          "data": {
            "text/html": [
              "<div>\n",
              "<style scoped>\n",
              "    .dataframe tbody tr th:only-of-type {\n",
              "        vertical-align: middle;\n",
              "    }\n",
              "\n",
              "    .dataframe tbody tr th {\n",
              "        vertical-align: top;\n",
              "    }\n",
              "\n",
              "    .dataframe thead th {\n",
              "        text-align: right;\n",
              "    }\n",
              "</style>\n",
              "<table border=\"1\" class=\"dataframe\">\n",
              "  <thead>\n",
              "    <tr style=\"text-align: right;\">\n",
              "      <th></th>\n",
              "      <th>MEDV</th>\n",
              "      <th>lr_prediction</th>\n",
              "    </tr>\n",
              "  </thead>\n",
              "  <tbody>\n",
              "    <tr>\n",
              "      <th>0</th>\n",
              "      <td>22.0</td>\n",
              "      <td>30.555493</td>\n",
              "    </tr>\n",
              "    <tr>\n",
              "      <th>1</th>\n",
              "      <td>31.0</td>\n",
              "      <td>37.829631</td>\n",
              "    </tr>\n",
              "    <tr>\n",
              "      <th>2</th>\n",
              "      <td>17.1</td>\n",
              "      <td>18.302376</td>\n",
              "    </tr>\n",
              "    <tr>\n",
              "      <th>3</th>\n",
              "      <td>13.1</td>\n",
              "      <td>16.273197</td>\n",
              "    </tr>\n",
              "    <tr>\n",
              "      <th>4</th>\n",
              "      <td>16.5</td>\n",
              "      <td>22.648703</td>\n",
              "    </tr>\n",
              "  </tbody>\n",
              "</table>\n",
              "</div>"
            ],
            "text/plain": [
              "   MEDV  lr_prediction\n",
              "0  22.0      30.555493\n",
              "1  31.0      37.829631\n",
              "2  17.1      18.302376\n",
              "3  13.1      16.273197\n",
              "4  16.5      22.648703"
            ]
          },
          "metadata": {
            "tags": []
          },
          "execution_count": 40
        }
      ]
    },
    {
      "cell_type": "markdown",
      "metadata": {
        "id": "1WsHSQiMYqtF"
      },
      "source": [
        "#### Random Forest Regression\n",
        "Documentation at https://scikit-learn.org/stable/modules/generated/sklearn.ensemble.RandomForestRegressor.html"
      ]
    },
    {
      "cell_type": "code",
      "metadata": {
        "id": "VY4EISRTNcpZ",
        "outputId": "85931dc9-c311-4926-9157-e7c0649f5694",
        "colab": {
          "base_uri": "https://localhost:8080/",
          "height": 238
        }
      },
      "source": [
        "rfr = RandomForestRegressor().fit(boston_train_features, boston_train_labels)\n",
        "\n",
        "#Predictions on the Test data\n",
        "predictions_rfr = rfr.predict(boston_test_features)\n",
        "\n",
        "#Putting the above predictions and probabilities together to create a readable df\n",
        "rfr_df = pd.DataFrame(predictions_rfr.reshape(len(predictions_rfr),1))\n",
        "rfr_df.rename(columns={0:'rfr_prediction'}, inplace=True)\n",
        "rfr_df.head(5)"
      ],
      "execution_count": null,
      "outputs": [
        {
          "output_type": "stream",
          "text": [
            "/usr/local/lib/python3.6/dist-packages/ipykernel_launcher.py:1: DataConversionWarning: A column-vector y was passed when a 1d array was expected. Please change the shape of y to (n_samples,), for example using ravel().\n",
            "  \"\"\"Entry point for launching an IPython kernel.\n"
          ],
          "name": "stderr"
        },
        {
          "output_type": "execute_result",
          "data": {
            "text/html": [
              "<div>\n",
              "<style scoped>\n",
              "    .dataframe tbody tr th:only-of-type {\n",
              "        vertical-align: middle;\n",
              "    }\n",
              "\n",
              "    .dataframe tbody tr th {\n",
              "        vertical-align: top;\n",
              "    }\n",
              "\n",
              "    .dataframe thead th {\n",
              "        text-align: right;\n",
              "    }\n",
              "</style>\n",
              "<table border=\"1\" class=\"dataframe\">\n",
              "  <thead>\n",
              "    <tr style=\"text-align: right;\">\n",
              "      <th></th>\n",
              "      <th>rfr_prediction</th>\n",
              "    </tr>\n",
              "  </thead>\n",
              "  <tbody>\n",
              "    <tr>\n",
              "      <th>0</th>\n",
              "      <td>30.230</td>\n",
              "    </tr>\n",
              "    <tr>\n",
              "      <th>1</th>\n",
              "      <td>35.132</td>\n",
              "    </tr>\n",
              "    <tr>\n",
              "      <th>2</th>\n",
              "      <td>18.293</td>\n",
              "    </tr>\n",
              "    <tr>\n",
              "      <th>3</th>\n",
              "      <td>14.498</td>\n",
              "    </tr>\n",
              "    <tr>\n",
              "      <th>4</th>\n",
              "      <td>18.789</td>\n",
              "    </tr>\n",
              "  </tbody>\n",
              "</table>\n",
              "</div>"
            ],
            "text/plain": [
              "   rfr_prediction\n",
              "0          30.230\n",
              "1          35.132\n",
              "2          18.293\n",
              "3          14.498\n",
              "4          18.789"
            ]
          },
          "metadata": {
            "tags": []
          },
          "execution_count": 41
        }
      ]
    },
    {
      "cell_type": "code",
      "metadata": {
        "id": "LzyCzh1fTSAQ",
        "outputId": "ce14e971-22ba-459f-cc63-a598d6346322",
        "colab": {
          "base_uri": "https://localhost:8080/",
          "height": 204
        }
      },
      "source": [
        "#Concatonating the predictions of decision tree to the iris_test dataset\n",
        "boston_test_prediction = pd.concat([boston_test_prediction, rfr_df], axis=1)\n",
        "boston_test_prediction.head(5)"
      ],
      "execution_count": null,
      "outputs": [
        {
          "output_type": "execute_result",
          "data": {
            "text/html": [
              "<div>\n",
              "<style scoped>\n",
              "    .dataframe tbody tr th:only-of-type {\n",
              "        vertical-align: middle;\n",
              "    }\n",
              "\n",
              "    .dataframe tbody tr th {\n",
              "        vertical-align: top;\n",
              "    }\n",
              "\n",
              "    .dataframe thead th {\n",
              "        text-align: right;\n",
              "    }\n",
              "</style>\n",
              "<table border=\"1\" class=\"dataframe\">\n",
              "  <thead>\n",
              "    <tr style=\"text-align: right;\">\n",
              "      <th></th>\n",
              "      <th>MEDV</th>\n",
              "      <th>lr_prediction</th>\n",
              "      <th>rfr_prediction</th>\n",
              "    </tr>\n",
              "  </thead>\n",
              "  <tbody>\n",
              "    <tr>\n",
              "      <th>0</th>\n",
              "      <td>22.0</td>\n",
              "      <td>30.555493</td>\n",
              "      <td>30.230</td>\n",
              "    </tr>\n",
              "    <tr>\n",
              "      <th>1</th>\n",
              "      <td>31.0</td>\n",
              "      <td>37.829631</td>\n",
              "      <td>35.132</td>\n",
              "    </tr>\n",
              "    <tr>\n",
              "      <th>2</th>\n",
              "      <td>17.1</td>\n",
              "      <td>18.302376</td>\n",
              "      <td>18.293</td>\n",
              "    </tr>\n",
              "    <tr>\n",
              "      <th>3</th>\n",
              "      <td>13.1</td>\n",
              "      <td>16.273197</td>\n",
              "      <td>14.498</td>\n",
              "    </tr>\n",
              "    <tr>\n",
              "      <th>4</th>\n",
              "      <td>16.5</td>\n",
              "      <td>22.648703</td>\n",
              "      <td>18.789</td>\n",
              "    </tr>\n",
              "  </tbody>\n",
              "</table>\n",
              "</div>"
            ],
            "text/plain": [
              "   MEDV  lr_prediction  rfr_prediction\n",
              "0  22.0      30.555493          30.230\n",
              "1  31.0      37.829631          35.132\n",
              "2  17.1      18.302376          18.293\n",
              "3  13.1      16.273197          14.498\n",
              "4  16.5      22.648703          18.789"
            ]
          },
          "metadata": {
            "tags": []
          },
          "execution_count": 42
        }
      ]
    },
    {
      "cell_type": "markdown",
      "metadata": {
        "id": "Z1G9HjPB6xVo"
      },
      "source": [
        "#### Support Vector Machines\n",
        "Documentation at https://scikit-learn.org/stable/modules/generated/sklearn.svm.SVR.html"
      ]
    },
    {
      "cell_type": "code",
      "metadata": {
        "id": "xPcG1jw_N5Ku",
        "outputId": "55cb000e-f6e3-4bf7-82aa-fe109c05d239",
        "colab": {
          "base_uri": "https://localhost:8080/",
          "height": 238
        }
      },
      "source": [
        "svm = svm.SVR().fit(boston_train_features, boston_train_labels)\n",
        "\n",
        "#Predictions on the Test data\n",
        "predictions_svm = svm.predict(boston_test_features)\n",
        "\n",
        "#Putting the above predictions and probabilities together to create a readable df\n",
        "svm_df = pd.DataFrame(predictions_svm.reshape(len(predictions_svm),1))\n",
        "svm_df.rename(columns={0:'svm_prediction'}, inplace=True)\n",
        "svm_df.head(5)"
      ],
      "execution_count": null,
      "outputs": [
        {
          "output_type": "stream",
          "text": [
            "/usr/local/lib/python3.6/dist-packages/sklearn/utils/validation.py:760: DataConversionWarning: A column-vector y was passed when a 1d array was expected. Please change the shape of y to (n_samples, ), for example using ravel().\n",
            "  y = column_or_1d(y, warn=True)\n"
          ],
          "name": "stderr"
        },
        {
          "output_type": "execute_result",
          "data": {
            "text/html": [
              "<div>\n",
              "<style scoped>\n",
              "    .dataframe tbody tr th:only-of-type {\n",
              "        vertical-align: middle;\n",
              "    }\n",
              "\n",
              "    .dataframe tbody tr th {\n",
              "        vertical-align: top;\n",
              "    }\n",
              "\n",
              "    .dataframe thead th {\n",
              "        text-align: right;\n",
              "    }\n",
              "</style>\n",
              "<table border=\"1\" class=\"dataframe\">\n",
              "  <thead>\n",
              "    <tr style=\"text-align: right;\">\n",
              "      <th></th>\n",
              "      <th>svm_prediction</th>\n",
              "    </tr>\n",
              "  </thead>\n",
              "  <tbody>\n",
              "    <tr>\n",
              "      <th>0</th>\n",
              "      <td>27.284179</td>\n",
              "    </tr>\n",
              "    <tr>\n",
              "      <th>1</th>\n",
              "      <td>26.484021</td>\n",
              "    </tr>\n",
              "    <tr>\n",
              "      <th>2</th>\n",
              "      <td>16.664763</td>\n",
              "    </tr>\n",
              "    <tr>\n",
              "      <th>3</th>\n",
              "      <td>20.236212</td>\n",
              "    </tr>\n",
              "    <tr>\n",
              "      <th>4</th>\n",
              "      <td>22.917944</td>\n",
              "    </tr>\n",
              "  </tbody>\n",
              "</table>\n",
              "</div>"
            ],
            "text/plain": [
              "   svm_prediction\n",
              "0       27.284179\n",
              "1       26.484021\n",
              "2       16.664763\n",
              "3       20.236212\n",
              "4       22.917944"
            ]
          },
          "metadata": {
            "tags": []
          },
          "execution_count": 43
        }
      ]
    },
    {
      "cell_type": "code",
      "metadata": {
        "id": "SnoLm3HCR640",
        "outputId": "1f5d4497-c6b7-40c5-8c26-df27edb53f7d",
        "colab": {
          "base_uri": "https://localhost:8080/",
          "height": 204
        }
      },
      "source": [
        "#Concatonating the predictions of decision tree to the iris_test dataset\n",
        "boston_test_prediction = pd.concat([boston_test_prediction, svm_df], axis=1)\n",
        "boston_test_prediction.head(5)"
      ],
      "execution_count": null,
      "outputs": [
        {
          "output_type": "execute_result",
          "data": {
            "text/html": [
              "<div>\n",
              "<style scoped>\n",
              "    .dataframe tbody tr th:only-of-type {\n",
              "        vertical-align: middle;\n",
              "    }\n",
              "\n",
              "    .dataframe tbody tr th {\n",
              "        vertical-align: top;\n",
              "    }\n",
              "\n",
              "    .dataframe thead th {\n",
              "        text-align: right;\n",
              "    }\n",
              "</style>\n",
              "<table border=\"1\" class=\"dataframe\">\n",
              "  <thead>\n",
              "    <tr style=\"text-align: right;\">\n",
              "      <th></th>\n",
              "      <th>MEDV</th>\n",
              "      <th>lr_prediction</th>\n",
              "      <th>rfr_prediction</th>\n",
              "      <th>svm_prediction</th>\n",
              "    </tr>\n",
              "  </thead>\n",
              "  <tbody>\n",
              "    <tr>\n",
              "      <th>0</th>\n",
              "      <td>22.0</td>\n",
              "      <td>30.555493</td>\n",
              "      <td>30.230</td>\n",
              "      <td>27.284179</td>\n",
              "    </tr>\n",
              "    <tr>\n",
              "      <th>1</th>\n",
              "      <td>31.0</td>\n",
              "      <td>37.829631</td>\n",
              "      <td>35.132</td>\n",
              "      <td>26.484021</td>\n",
              "    </tr>\n",
              "    <tr>\n",
              "      <th>2</th>\n",
              "      <td>17.1</td>\n",
              "      <td>18.302376</td>\n",
              "      <td>18.293</td>\n",
              "      <td>16.664763</td>\n",
              "    </tr>\n",
              "    <tr>\n",
              "      <th>3</th>\n",
              "      <td>13.1</td>\n",
              "      <td>16.273197</td>\n",
              "      <td>14.498</td>\n",
              "      <td>20.236212</td>\n",
              "    </tr>\n",
              "    <tr>\n",
              "      <th>4</th>\n",
              "      <td>16.5</td>\n",
              "      <td>22.648703</td>\n",
              "      <td>18.789</td>\n",
              "      <td>22.917944</td>\n",
              "    </tr>\n",
              "  </tbody>\n",
              "</table>\n",
              "</div>"
            ],
            "text/plain": [
              "   MEDV  lr_prediction  rfr_prediction  svm_prediction\n",
              "0  22.0      30.555493          30.230       27.284179\n",
              "1  31.0      37.829631          35.132       26.484021\n",
              "2  17.1      18.302376          18.293       16.664763\n",
              "3  13.1      16.273197          14.498       20.236212\n",
              "4  16.5      22.648703          18.789       22.917944"
            ]
          },
          "metadata": {
            "tags": []
          },
          "execution_count": 44
        }
      ]
    },
    {
      "cell_type": "markdown",
      "metadata": {
        "id": "OwV2Cv3ISkkH"
      },
      "source": [
        "Now we have 3 regression models to compare."
      ]
    },
    {
      "cell_type": "markdown",
      "metadata": {
        "id": "-Sy4FdPSDqBa"
      },
      "source": [
        "## Performance Measures"
      ]
    },
    {
      "cell_type": "markdown",
      "metadata": {
        "id": "dbcaEO1bL0vC"
      },
      "source": [
        "Depending on the type of solution we are building (classification/regression), there are different ways to analyze the performance of a model"
      ]
    },
    {
      "cell_type": "markdown",
      "metadata": {
        "id": "oz1NTcucLfR4"
      },
      "source": [
        "###Classification"
      ]
    },
    {
      "cell_type": "markdown",
      "metadata": {
        "id": "e4awaJ8fL8tu"
      },
      "source": [
        "Since the output of the model is a specific category, a given prediction can only be either right or wrong. For such a solution, we start off by bulding a [confusion matrix](https://www.geeksforgeeks.org/confusion-matrix-machine-learning/), which we will use to generate the performance metrics.\n",
        "\n",
        "Confusion matrix is built in the following manner where TP, FP, FN, TN map to counts of rows in which actual and predicted values are the row/column values\n",
        "\n",
        "![alt text](https://miro.medium.com/max/712/1*Z54JgbS4DUwWSknhDCvNTQ.png)\n",
        "\n",
        "From this confusion matrix, we can build performance metrics for a classification problem as shown below:\n",
        "\n",
        "![alt text](https://2.bp.blogspot.com/-EvSXDotTOwc/XMfeOGZ-CVI/AAAAAAAAEiE/oePFfvhfOQM11dgRn9FkPxlegCXbgOF4QCLcBGAs/s1600/confusionMatrxiUpdated.jpg)\n",
        "\n",
        "***Accuracy***\n",
        "Gives an overall idea on how many cases your model made a right prediction in your dataset. If the accuracy is 0.6, it can be read as 60% of the test instances were predicted correctly.\n",
        "\n",
        "***Precision***\n",
        "With precision, we are evaluating our data by its performance of ‘positive’ predictions.\n",
        "\n",
        "***Recall/Sensitivity***\n",
        "With recall, we are evaluating our data by its performance of the ground truths for positive outcomes. Meaning, we are judging how well predicted positive when the result was Positive.\n",
        "\n",
        "***F1-Score***\n",
        "F1 Score is the weighted average of Precision and Recall. Therefore, this score takes both false positives and false negatives into account. Intuitively it is not as easy to understand as accuracy, but F1 is usually more useful than accuracy, especially if you have an uneven class distribution.\n",
        "![alt text](https://wikimedia.org/api/rest_v1/media/math/render/svg/1bf179c30b00db201ce1895d88fe2915d58e6bfd)\n",
        "“F1 Score is the weighted average of Precision and Recall. Therefore, this score takes both false positives and false negatives into account. Intuitively it is not as easy to understand as accuracy, but F1 is usually more useful than accuracy, especially if you have an uneven class distribution.” — Renuka Joshi\n",
        "\n",
        "***ROC curve/AUC Score***\n",
        "The ROC curve is a way to maximize our accuracy of the model by playing around with the threshold of confidence of the predictions. \n",
        "![alt text](https://miro.medium.com/max/722/1*pk05QGzoWhCgRiiFbz-oKQ.png)\n",
        "\n",
        "Reference - https://becominghuman.ai/understand-classification-performance-metrics-cad56f2da3aa"
      ]
    },
    {
      "cell_type": "markdown",
      "metadata": {
        "id": "mXUwlY4IcetI"
      },
      "source": [
        "For our Iris dataset, let us use accuracy as our performance metric and our goal is to maximize this value."
      ]
    },
    {
      "cell_type": "code",
      "metadata": {
        "id": "sjyQ4qRJUf4H",
        "outputId": "62b0ba56-685b-426f-fccb-85b3da944d56",
        "colab": {
          "base_uri": "https://localhost:8080/",
          "height": 204
        }
      },
      "source": [
        "iris_test_prediction.head(5)"
      ],
      "execution_count": null,
      "outputs": [
        {
          "output_type": "execute_result",
          "data": {
            "text/html": [
              "<div>\n",
              "<style scoped>\n",
              "    .dataframe tbody tr th:only-of-type {\n",
              "        vertical-align: middle;\n",
              "    }\n",
              "\n",
              "    .dataframe tbody tr th {\n",
              "        vertical-align: top;\n",
              "    }\n",
              "\n",
              "    .dataframe thead th {\n",
              "        text-align: right;\n",
              "    }\n",
              "</style>\n",
              "<table border=\"1\" class=\"dataframe\">\n",
              "  <thead>\n",
              "    <tr style=\"text-align: right;\">\n",
              "      <th></th>\n",
              "      <th>species</th>\n",
              "      <th>gnb_prediction</th>\n",
              "      <th>gnb_probability</th>\n",
              "      <th>dt_prediction</th>\n",
              "      <th>dt_probability</th>\n",
              "      <th>logr_prediction</th>\n",
              "      <th>logr_probability</th>\n",
              "    </tr>\n",
              "  </thead>\n",
              "  <tbody>\n",
              "    <tr>\n",
              "      <th>0</th>\n",
              "      <td>1</td>\n",
              "      <td>1</td>\n",
              "      <td>0.999998</td>\n",
              "      <td>1</td>\n",
              "      <td>1.0</td>\n",
              "      <td>1</td>\n",
              "      <td>0.928563</td>\n",
              "    </tr>\n",
              "    <tr>\n",
              "      <th>1</th>\n",
              "      <td>2</td>\n",
              "      <td>2</td>\n",
              "      <td>0.952311</td>\n",
              "      <td>2</td>\n",
              "      <td>1.0</td>\n",
              "      <td>2</td>\n",
              "      <td>0.766414</td>\n",
              "    </tr>\n",
              "    <tr>\n",
              "      <th>2</th>\n",
              "      <td>0</td>\n",
              "      <td>0</td>\n",
              "      <td>1.000000</td>\n",
              "      <td>0</td>\n",
              "      <td>1.0</td>\n",
              "      <td>0</td>\n",
              "      <td>0.976893</td>\n",
              "    </tr>\n",
              "    <tr>\n",
              "      <th>3</th>\n",
              "      <td>0</td>\n",
              "      <td>0</td>\n",
              "      <td>1.000000</td>\n",
              "      <td>0</td>\n",
              "      <td>1.0</td>\n",
              "      <td>0</td>\n",
              "      <td>0.983923</td>\n",
              "    </tr>\n",
              "    <tr>\n",
              "      <th>4</th>\n",
              "      <td>0</td>\n",
              "      <td>0</td>\n",
              "      <td>1.000000</td>\n",
              "      <td>0</td>\n",
              "      <td>1.0</td>\n",
              "      <td>0</td>\n",
              "      <td>0.972619</td>\n",
              "    </tr>\n",
              "  </tbody>\n",
              "</table>\n",
              "</div>"
            ],
            "text/plain": [
              "   species  gnb_prediction  ...  logr_prediction  logr_probability\n",
              "0        1               1  ...                1          0.928563\n",
              "1        2               2  ...                2          0.766414\n",
              "2        0               0  ...                0          0.976893\n",
              "3        0               0  ...                0          0.983923\n",
              "4        0               0  ...                0          0.972619\n",
              "\n",
              "[5 rows x 7 columns]"
            ]
          },
          "metadata": {
            "tags": []
          },
          "execution_count": 45
        }
      ]
    },
    {
      "cell_type": "code",
      "metadata": {
        "id": "704wOXg7L6JR",
        "outputId": "fc109e72-d021-4235-b78b-9f9904fbe467",
        "colab": {
          "base_uri": "https://localhost:8080/",
          "height": 34
        }
      },
      "source": [
        "accuracy_score(iris_test_prediction['species'], iris_test_prediction['gnb_prediction'])"
      ],
      "execution_count": null,
      "outputs": [
        {
          "output_type": "execute_result",
          "data": {
            "text/plain": [
              "0.9666666666666667"
            ]
          },
          "metadata": {
            "tags": []
          },
          "execution_count": 46
        }
      ]
    },
    {
      "cell_type": "code",
      "metadata": {
        "id": "gFMfSPVHOLi5",
        "outputId": "94004de7-2689-497e-be31-1eea26ff5863",
        "colab": {
          "base_uri": "https://localhost:8080/",
          "height": 34
        }
      },
      "source": [
        "accuracy_score(iris_test_prediction['species'], iris_test_prediction['dt_prediction'])"
      ],
      "execution_count": null,
      "outputs": [
        {
          "output_type": "execute_result",
          "data": {
            "text/plain": [
              "0.9666666666666667"
            ]
          },
          "metadata": {
            "tags": []
          },
          "execution_count": 47
        }
      ]
    },
    {
      "cell_type": "code",
      "metadata": {
        "id": "h2cvqjdHOL-g",
        "outputId": "35e0de38-478c-497e-c20c-8c9ab5e69b45",
        "colab": {
          "base_uri": "https://localhost:8080/",
          "height": 34
        }
      },
      "source": [
        "accuracy_score(iris_test_prediction['species'], iris_test_prediction['logr_prediction'])"
      ],
      "execution_count": null,
      "outputs": [
        {
          "output_type": "execute_result",
          "data": {
            "text/plain": [
              "0.9666666666666667"
            ]
          },
          "metadata": {
            "tags": []
          },
          "execution_count": 48
        }
      ]
    },
    {
      "cell_type": "markdown",
      "metadata": {
        "id": "46nZz6w7MNVk"
      },
      "source": [
        "### Regression"
      ]
    },
    {
      "cell_type": "markdown",
      "metadata": {
        "id": "x8lFfkY4MbuM"
      },
      "source": [
        "Unlike a classification problem, the objective of a regression problem is to predict a numerical value (eg. cost of a house) and it would be difficult to predict a house value spot-on. Since the output of the model is numerical, we analyze how 'far away' the predictions are from the ground truth.\n",
        "\n",
        "***Mean Absolute Error (MAE)***\n",
        "![alt text](https://miro.medium.com/max/1280/1*2wWmoXUV8ic6Xz1LvzxWfw.png)\n",
        "The Mean Absolute Error measures the average of the absolute difference between each ground truth and the predictions. The MAE is an absolute measure of fit - On an average, the predictions are off from the ground truths by a value of MAE.\n",
        "\n",
        "     \n",
        "\n",
        "***Root Mean Squared Error (RMSE)***\n",
        "\n",
        "![alt text](https://miro.medium.com/max/1984/1*k-OzeL6IuG5fUbsX2lKJfw.png)\n",
        "The Root Mean Squared Error measures the square root of the average of the squared difference between the predictions and the ground truth. Notice that the RMSE is larger than the MAE. Since the RMSE is squaring the difference between the predictions and the ground truth, any significant difference is made more substantial when it is being squared. RMSE is more sensitive to outliers.\n",
        "\n",
        "\n",
        "***R-Squared***\n",
        "\n",
        "\n",
        "![alt text](https://miro.medium.com/max/2568/1*pKx5cF_Fx6nco2KNowSuvA.png)\n",
        "If you like to understand how well the independent variables “explain” the variance in your model, the R-Squared formula can be powerful. The weaker the variance between our model and the linear model is, the stronger the R^Squared.\n",
        "\n",
        "***Adjusted R-squared***\n",
        "\n",
        "\n",
        "![alt text](https://miro.medium.com/max/880/1*Ss-l42a56Mt6wxmEUEX1jg.png)\n",
        "One of the pitfalls of the R-squared is that it will always improve as we increase the number of variables. The Adjusted R-Squared fixes this problem as it adds a penalty to the model.\n",
        "\n",
        "\n",
        "Reference - https://becominghuman.ai/understand-regression-performance-metrics-bdb0e7fcc1b3"
      ]
    },
    {
      "cell_type": "markdown",
      "metadata": {
        "id": "5EUJzzj8T8ta"
      },
      "source": [
        "Let us use RMSE as our metric to validate the regression models. Our goal is to minimize the RMSE value."
      ]
    },
    {
      "cell_type": "code",
      "metadata": {
        "id": "DRPohpw8UB6O",
        "outputId": "08679fb3-5788-4438-b35c-3662a7a78336",
        "colab": {
          "base_uri": "https://localhost:8080/",
          "height": 204
        }
      },
      "source": [
        "boston_test_prediction.head(5)"
      ],
      "execution_count": null,
      "outputs": [
        {
          "output_type": "execute_result",
          "data": {
            "text/html": [
              "<div>\n",
              "<style scoped>\n",
              "    .dataframe tbody tr th:only-of-type {\n",
              "        vertical-align: middle;\n",
              "    }\n",
              "\n",
              "    .dataframe tbody tr th {\n",
              "        vertical-align: top;\n",
              "    }\n",
              "\n",
              "    .dataframe thead th {\n",
              "        text-align: right;\n",
              "    }\n",
              "</style>\n",
              "<table border=\"1\" class=\"dataframe\">\n",
              "  <thead>\n",
              "    <tr style=\"text-align: right;\">\n",
              "      <th></th>\n",
              "      <th>MEDV</th>\n",
              "      <th>lr_prediction</th>\n",
              "      <th>rfr_prediction</th>\n",
              "      <th>svm_prediction</th>\n",
              "    </tr>\n",
              "  </thead>\n",
              "  <tbody>\n",
              "    <tr>\n",
              "      <th>0</th>\n",
              "      <td>22.0</td>\n",
              "      <td>30.555493</td>\n",
              "      <td>30.230</td>\n",
              "      <td>27.284179</td>\n",
              "    </tr>\n",
              "    <tr>\n",
              "      <th>1</th>\n",
              "      <td>31.0</td>\n",
              "      <td>37.829631</td>\n",
              "      <td>35.132</td>\n",
              "      <td>26.484021</td>\n",
              "    </tr>\n",
              "    <tr>\n",
              "      <th>2</th>\n",
              "      <td>17.1</td>\n",
              "      <td>18.302376</td>\n",
              "      <td>18.293</td>\n",
              "      <td>16.664763</td>\n",
              "    </tr>\n",
              "    <tr>\n",
              "      <th>3</th>\n",
              "      <td>13.1</td>\n",
              "      <td>16.273197</td>\n",
              "      <td>14.498</td>\n",
              "      <td>20.236212</td>\n",
              "    </tr>\n",
              "    <tr>\n",
              "      <th>4</th>\n",
              "      <td>16.5</td>\n",
              "      <td>22.648703</td>\n",
              "      <td>18.789</td>\n",
              "      <td>22.917944</td>\n",
              "    </tr>\n",
              "  </tbody>\n",
              "</table>\n",
              "</div>"
            ],
            "text/plain": [
              "   MEDV  lr_prediction  rfr_prediction  svm_prediction\n",
              "0  22.0      30.555493          30.230       27.284179\n",
              "1  31.0      37.829631          35.132       26.484021\n",
              "2  17.1      18.302376          18.293       16.664763\n",
              "3  13.1      16.273197          14.498       20.236212\n",
              "4  16.5      22.648703          18.789       22.917944"
            ]
          },
          "metadata": {
            "tags": []
          },
          "execution_count": 49
        }
      ]
    },
    {
      "cell_type": "code",
      "metadata": {
        "id": "2te_DKw2UR6H",
        "outputId": "77196584-8c8f-4af3-d754-7723e114f18b",
        "colab": {
          "base_uri": "https://localhost:8080/",
          "height": 34
        }
      },
      "source": [
        "mean_squared_error(boston_test_prediction['MEDV'], boston_test_prediction['lr_prediction'])"
      ],
      "execution_count": null,
      "outputs": [
        {
          "output_type": "execute_result",
          "data": {
            "text/plain": [
              "28.851713309280324"
            ]
          },
          "metadata": {
            "tags": []
          },
          "execution_count": 50
        }
      ]
    },
    {
      "cell_type": "code",
      "metadata": {
        "id": "TelPPTbgUYIh",
        "outputId": "3fe4fccb-2bcc-45c3-b0f4-936b18fc70b5",
        "colab": {
          "base_uri": "https://localhost:8080/",
          "height": 34
        }
      },
      "source": [
        "mean_squared_error(boston_test_prediction['MEDV'], boston_test_prediction['rfr_prediction'])"
      ],
      "execution_count": null,
      "outputs": [
        {
          "output_type": "execute_result",
          "data": {
            "text/plain": [
              "26.450809964589975"
            ]
          },
          "metadata": {
            "tags": []
          },
          "execution_count": 51
        }
      ]
    },
    {
      "cell_type": "code",
      "metadata": {
        "id": "rc4NlRgfUYki",
        "outputId": "a1603b1e-13dd-484e-ca7d-8a6981cd72af",
        "colab": {
          "base_uri": "https://localhost:8080/",
          "height": 34
        }
      },
      "source": [
        "mean_squared_error(boston_test_prediction['MEDV'], boston_test_prediction['svm_prediction'])"
      ],
      "execution_count": null,
      "outputs": [
        {
          "output_type": "execute_result",
          "data": {
            "text/plain": [
              "48.23623878499375"
            ]
          },
          "metadata": {
            "tags": []
          },
          "execution_count": 52
        }
      ]
    },
    {
      "cell_type": "markdown",
      "metadata": {
        "id": "M3tzZDIMDukz"
      },
      "source": [
        "## Model Tuning & Optimization"
      ]
    },
    {
      "cell_type": "markdown",
      "metadata": {
        "id": "Lkzs11TfU5SB"
      },
      "source": [
        "Most models give you control on the paramters for building the model. We built default models till now, lets take a look at one example where we build a similar model with different parameters and see how this affects the accuracy."
      ]
    },
    {
      "cell_type": "code",
      "metadata": {
        "id": "IZ0bmKU4VW4P",
        "outputId": "09a61e2b-c1cb-47e2-efd5-015999d3ec21",
        "colab": {
          "base_uri": "https://localhost:8080/",
          "height": 238
        }
      },
      "source": [
        "#Create the model object and train\n",
        "logr_v2 = LogisticRegression(max_iter=500,fit_intercept=False)\n",
        "logr_v2.fit(iris_train_features, iris_train_labels)\n",
        "\n",
        "#Predictions on the Test data\n",
        "predictions_logr_v2 = logr_v2.predict(iris_test_features)\n",
        "\n",
        "#Getting the probabilities for these predictions\n",
        "predictions_probability_logr_v2 = logr_v2.predict_proba(iris_test_features)[:, 1]\n",
        "\n",
        "#Putting the above predictions and probabilities together to create a readable df\n",
        "logr_v2_df = pd.DataFrame(predictions_logr_v2.reshape(len(predictions_logr_v2),1))\n",
        "logr_v2_df.rename(columns={0:'logr_v2_prediction'}, inplace=True)\n",
        "logr_v2_df['logr_v2_probability'] = predictions_probability_logr_v2\n",
        "logr_v2_df.head(5)"
      ],
      "execution_count": null,
      "outputs": [
        {
          "output_type": "stream",
          "text": [
            "/usr/local/lib/python3.6/dist-packages/sklearn/utils/validation.py:760: DataConversionWarning: A column-vector y was passed when a 1d array was expected. Please change the shape of y to (n_samples, ), for example using ravel().\n",
            "  y = column_or_1d(y, warn=True)\n"
          ],
          "name": "stderr"
        },
        {
          "output_type": "execute_result",
          "data": {
            "text/html": [
              "<div>\n",
              "<style scoped>\n",
              "    .dataframe tbody tr th:only-of-type {\n",
              "        vertical-align: middle;\n",
              "    }\n",
              "\n",
              "    .dataframe tbody tr th {\n",
              "        vertical-align: top;\n",
              "    }\n",
              "\n",
              "    .dataframe thead th {\n",
              "        text-align: right;\n",
              "    }\n",
              "</style>\n",
              "<table border=\"1\" class=\"dataframe\">\n",
              "  <thead>\n",
              "    <tr style=\"text-align: right;\">\n",
              "      <th></th>\n",
              "      <th>logr_v2_prediction</th>\n",
              "      <th>logr_v2_probability</th>\n",
              "    </tr>\n",
              "  </thead>\n",
              "  <tbody>\n",
              "    <tr>\n",
              "      <th>0</th>\n",
              "      <td>1</td>\n",
              "      <td>0.788708</td>\n",
              "    </tr>\n",
              "    <tr>\n",
              "      <th>1</th>\n",
              "      <td>2</td>\n",
              "      <td>0.187310</td>\n",
              "    </tr>\n",
              "    <tr>\n",
              "      <th>2</th>\n",
              "      <td>0</td>\n",
              "      <td>0.021988</td>\n",
              "    </tr>\n",
              "    <tr>\n",
              "      <th>3</th>\n",
              "      <td>0</td>\n",
              "      <td>0.028091</td>\n",
              "    </tr>\n",
              "    <tr>\n",
              "      <th>4</th>\n",
              "      <td>0</td>\n",
              "      <td>0.018670</td>\n",
              "    </tr>\n",
              "  </tbody>\n",
              "</table>\n",
              "</div>"
            ],
            "text/plain": [
              "   logr_v2_prediction  logr_v2_probability\n",
              "0                   1             0.788708\n",
              "1                   2             0.187310\n",
              "2                   0             0.021988\n",
              "3                   0             0.028091\n",
              "4                   0             0.018670"
            ]
          },
          "metadata": {
            "tags": []
          },
          "execution_count": 53
        }
      ]
    },
    {
      "cell_type": "code",
      "metadata": {
        "id": "M13UOWTzVm4H",
        "outputId": "3d28bbff-d1b1-4ebe-fa9d-350562bcafb1",
        "colab": {
          "base_uri": "https://localhost:8080/",
          "height": 204
        }
      },
      "source": [
        "#Concatonating the predictions of decision tree to the iris_test dataset\n",
        "iris_test_prediction = pd.concat([iris_test_prediction, logr_v2_df], axis=1)\n",
        "iris_test_prediction.head(5)"
      ],
      "execution_count": null,
      "outputs": [
        {
          "output_type": "execute_result",
          "data": {
            "text/html": [
              "<div>\n",
              "<style scoped>\n",
              "    .dataframe tbody tr th:only-of-type {\n",
              "        vertical-align: middle;\n",
              "    }\n",
              "\n",
              "    .dataframe tbody tr th {\n",
              "        vertical-align: top;\n",
              "    }\n",
              "\n",
              "    .dataframe thead th {\n",
              "        text-align: right;\n",
              "    }\n",
              "</style>\n",
              "<table border=\"1\" class=\"dataframe\">\n",
              "  <thead>\n",
              "    <tr style=\"text-align: right;\">\n",
              "      <th></th>\n",
              "      <th>species</th>\n",
              "      <th>gnb_prediction</th>\n",
              "      <th>gnb_probability</th>\n",
              "      <th>dt_prediction</th>\n",
              "      <th>dt_probability</th>\n",
              "      <th>logr_prediction</th>\n",
              "      <th>logr_probability</th>\n",
              "      <th>logr_v2_prediction</th>\n",
              "      <th>logr_v2_probability</th>\n",
              "    </tr>\n",
              "  </thead>\n",
              "  <tbody>\n",
              "    <tr>\n",
              "      <th>0</th>\n",
              "      <td>1</td>\n",
              "      <td>1</td>\n",
              "      <td>0.999998</td>\n",
              "      <td>1</td>\n",
              "      <td>1.0</td>\n",
              "      <td>1</td>\n",
              "      <td>0.928563</td>\n",
              "      <td>1</td>\n",
              "      <td>0.788708</td>\n",
              "    </tr>\n",
              "    <tr>\n",
              "      <th>1</th>\n",
              "      <td>2</td>\n",
              "      <td>2</td>\n",
              "      <td>0.952311</td>\n",
              "      <td>2</td>\n",
              "      <td>1.0</td>\n",
              "      <td>2</td>\n",
              "      <td>0.766414</td>\n",
              "      <td>2</td>\n",
              "      <td>0.187310</td>\n",
              "    </tr>\n",
              "    <tr>\n",
              "      <th>2</th>\n",
              "      <td>0</td>\n",
              "      <td>0</td>\n",
              "      <td>1.000000</td>\n",
              "      <td>0</td>\n",
              "      <td>1.0</td>\n",
              "      <td>0</td>\n",
              "      <td>0.976893</td>\n",
              "      <td>0</td>\n",
              "      <td>0.021988</td>\n",
              "    </tr>\n",
              "    <tr>\n",
              "      <th>3</th>\n",
              "      <td>0</td>\n",
              "      <td>0</td>\n",
              "      <td>1.000000</td>\n",
              "      <td>0</td>\n",
              "      <td>1.0</td>\n",
              "      <td>0</td>\n",
              "      <td>0.983923</td>\n",
              "      <td>0</td>\n",
              "      <td>0.028091</td>\n",
              "    </tr>\n",
              "    <tr>\n",
              "      <th>4</th>\n",
              "      <td>0</td>\n",
              "      <td>0</td>\n",
              "      <td>1.000000</td>\n",
              "      <td>0</td>\n",
              "      <td>1.0</td>\n",
              "      <td>0</td>\n",
              "      <td>0.972619</td>\n",
              "      <td>0</td>\n",
              "      <td>0.018670</td>\n",
              "    </tr>\n",
              "  </tbody>\n",
              "</table>\n",
              "</div>"
            ],
            "text/plain": [
              "   species  gnb_prediction  ...  logr_v2_prediction  logr_v2_probability\n",
              "0        1               1  ...                   1             0.788708\n",
              "1        2               2  ...                   2             0.187310\n",
              "2        0               0  ...                   0             0.021988\n",
              "3        0               0  ...                   0             0.028091\n",
              "4        0               0  ...                   0             0.018670\n",
              "\n",
              "[5 rows x 9 columns]"
            ]
          },
          "metadata": {
            "tags": []
          },
          "execution_count": 54
        }
      ]
    },
    {
      "cell_type": "code",
      "metadata": {
        "id": "d3Moc1VLVxKY",
        "outputId": "3d34e3fd-9f0c-4f3a-b368-f3ac4c6456cd",
        "colab": {
          "base_uri": "https://localhost:8080/",
          "height": 34
        }
      },
      "source": [
        "accuracy_score(iris_test_prediction['species'], iris_test_prediction['logr_prediction'])"
      ],
      "execution_count": null,
      "outputs": [
        {
          "output_type": "execute_result",
          "data": {
            "text/plain": [
              "0.9666666666666667"
            ]
          },
          "metadata": {
            "tags": []
          },
          "execution_count": 55
        }
      ]
    },
    {
      "cell_type": "code",
      "metadata": {
        "id": "IMLbsGhDVw3F",
        "outputId": "47f1668a-0c60-4fbb-afd7-f0da52ac5004",
        "colab": {
          "base_uri": "https://localhost:8080/",
          "height": 34
        }
      },
      "source": [
        "accuracy_score(iris_test_prediction['species'], iris_test_prediction['logr_v2_prediction'])"
      ],
      "execution_count": null,
      "outputs": [
        {
          "output_type": "execute_result",
          "data": {
            "text/plain": [
              "0.9666666666666667"
            ]
          },
          "metadata": {
            "tags": []
          },
          "execution_count": 56
        }
      ]
    },
    {
      "cell_type": "markdown",
      "metadata": {
        "id": "ROw3QAndXGY2"
      },
      "source": [
        "Addition of max_iter and fit_intercept parameters changed the way the model was trained, and therefore changed the predictions it generated.\n",
        "\n",
        "**EXERCISE: For the models built, look up the official sklearn documentation and see how change in paramters affect the model performance.**"
      ]
    },
    {
      "cell_type": "markdown",
      "metadata": {
        "id": "sGE0CXsADzwn"
      },
      "source": [
        "## Model Selection"
      ]
    },
    {
      "cell_type": "markdown",
      "metadata": {
        "id": "39hdWBdEXZ-F"
      },
      "source": [
        "The model with the best performance metric should be selected. In this case, we are writing a function that compares the accuracy metrics of multiple models and return the one with the highest accuracy metric."
      ]
    },
    {
      "cell_type": "code",
      "metadata": {
        "id": "2yNnNQT2X41X"
      },
      "source": [
        "def maxAccuracy(df, actual_value, model_pred_list):\n",
        "  max_model = ''\n",
        "  max_accuracy = 0\n",
        "  for model in model_pred_list:\n",
        "    acc = accuracy_score(df[actual_value], df[model])\n",
        "    if acc > max_accuracy:\n",
        "      max_model = model\n",
        "      max_accuracy = acc\n",
        "\n",
        "  print(\"MAX: \" + max_model + \" - \" + str(max_accuracy))"
      ],
      "execution_count": null,
      "outputs": []
    },
    {
      "cell_type": "code",
      "metadata": {
        "id": "bsmK0Y8eYs89",
        "outputId": "23aca522-4fd0-44ed-bd82-ff684923b98b",
        "colab": {
          "base_uri": "https://localhost:8080/",
          "height": 34
        }
      },
      "source": [
        "maxAccuracy(iris_test_prediction,'species',['gnb_prediction','dt_prediction','logr_prediction','logr_v2_prediction'])"
      ],
      "execution_count": null,
      "outputs": [
        {
          "output_type": "stream",
          "text": [
            "MAX: gnb_prediction - 0.9666666666666667\n"
          ],
          "name": "stdout"
        }
      ]
    },
    {
      "cell_type": "markdown",
      "metadata": {
        "id": "0a3IkNsiY6sK"
      },
      "source": [
        "**EXERCISE: Write a similar function to find the best regression model (minimize the RMSE)**"
      ]
    },
    {
      "cell_type": "markdown",
      "metadata": {
        "id": "KoPWFge9Tquo"
      },
      "source": [
        "You can take a look at: https://github.com/WWCode-SV/Mini_Data_Science_Bootcamp/blob/master/hotel_booking.ipynb"
      ]
    },
    {
      "cell_type": "code",
      "metadata": {
        "id": "fZ-jVX8iT__D"
      },
      "source": [
        ""
      ],
      "execution_count": null,
      "outputs": []
    }
  ]
}